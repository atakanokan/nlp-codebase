{
 "cells": [
  {
   "cell_type": "markdown",
   "metadata": {},
   "source": [
    "<h1 id=\"tocheading\">Table of Contents</h1>\n",
    "<div id=\"toc\"></div>"
   ]
  },
  {
   "cell_type": "code",
   "execution_count": 2,
   "metadata": {},
   "outputs": [
    {
     "data": {
      "application/javascript": [
       "\n",
       "$.getScript('https://kmahelona.github.io/ipython_notebook_goodies/ipython_notebook_toc.js')"
      ],
      "text/plain": [
       "<IPython.core.display.Javascript object>"
      ]
     },
     "metadata": {},
     "output_type": "display_data"
    }
   ],
   "source": [
    "%%javascript\n",
    "\n",
    "$.getScript('https://kmahelona.github.io/ipython_notebook_goodies/ipython_notebook_toc.js')"
   ]
  },
  {
   "cell_type": "markdown",
   "metadata": {},
   "source": [
    "This script uses bag-of-ngrams approach to sentiment classification using the IMDB review dataset."
   ]
  },
  {
   "cell_type": "markdown",
   "metadata": {},
   "source": [
    "# PyTorch"
   ]
  },
  {
   "cell_type": "markdown",
   "metadata": {},
   "source": [
    "## Data Loading"
   ]
  },
  {
   "cell_type": "markdown",
   "metadata": {},
   "source": [
    "The dataset was downloaded from: http://ai.stanford.edu/~amaas/data/sentiment/"
   ]
  },
  {
   "cell_type": "code",
   "execution_count": 7,
   "metadata": {
    "collapsed": true
   },
   "outputs": [],
   "source": [
    "import os"
   ]
  },
  {
   "cell_type": "code",
   "execution_count": 31,
   "metadata": {
    "collapsed": true
   },
   "outputs": [],
   "source": [
    "data_loc = \"data/imdb_reviews/\""
   ]
  },
  {
   "cell_type": "code",
   "execution_count": 36,
   "metadata": {
    "collapsed": true
   },
   "outputs": [],
   "source": [
    "def read_txt_files(folder_path):\n",
    "    \"\"\"Reads all .txt files in a folder to a list\"\"\"\n",
    "    \n",
    "    all_reviews = []\n",
    "    file_list = os.listdir(folder_path)\n",
    "    print(file_list[:10])\n",
    "    for file_path in file_list:\n",
    "        f = open(folder_path+file_path)\n",
    "        all_reviews.append(f.read())\n",
    "    return all_reviews"
   ]
  },
  {
   "cell_type": "code",
   "execution_count": 37,
   "metadata": {
    "collapsed": true
   },
   "outputs": [],
   "source": [
    "import numpy as np"
   ]
  },
  {
   "cell_type": "code",
   "execution_count": 39,
   "metadata": {},
   "outputs": [
    {
     "name": "stdout",
     "output_type": "stream",
     "text": [
      "['4715_9.txt', '12390_8.txt', '8329_7.txt', '9063_8.txt', '3092_10.txt', '9865_8.txt', '6639_10.txt', '10460_10.txt', '10331_10.txt', '11606_10.txt']\n"
     ]
    },
    {
     "data": {
      "text/plain": [
       "\"Have you heard the story about the reluctant heroes who were hired by a King to slay a dragon? Oh, you have? Was it set in a world entirely composed of small islands floating above clouds, and did the heroes have to make dangerous leaps from one island to the next on their journey? Did water flow upwards and remnants of great cities levitate on the horizon? I didn't think so.<br /><br />I stumbled onto this movie by accident and I'm really glad that I did! It's one of the most beautiful movies I've ever seen. Much like the Pixar movies, it's a piece of computer animated art that could only be possible in today's world. The animators have invested thought into almost everything that appears on the screen, and this attention to detail is staggering (the scene where the mushrooms in the foreground belch green smoke whilst the characters walk obliviously in the background is one of my favourites). The monsters are also fully realised and wonderful to watch in action.<br /><br />Although the plot may not be entirely unique, the movie has enough charm to make sure you keep watching. Our protagonists are likable and interesting, ensuring the audience is behind their almost impossible quest to reach the end of the world and destroy the dragon which might otherwise devour everything in its path. Of course, Hector is the character most will fall in love with. A small blue creature with a crazy grin and a tendency to speak a mixture of nonsense and English, Hector provides comedy relief in a way Jar Jar Binks could only dream of.<br /><br />In summary, I'd recommend watching The Dragon Hunters if you get the opportunity. Watch it for the incredible animation, the breath-taking battle scenes and for a glimpse into a world that's unlike anything else you've seen on a cinema or television screen. At the very least, it's a fun way to spend an hour and a half - no matter if you're nine or twenty-nine (which, in fact, I am)!\""
      ]
     },
     "execution_count": 39,
     "metadata": {},
     "output_type": "execute_result"
    }
   ],
   "source": [
    "train_pos = read_txt_files(folder_path=data_loc+\"train/pos/\")\n",
    "train_pos[np.random.randint(1, high=len(train_pos)-1)]"
   ]
  },
  {
   "cell_type": "markdown",
   "metadata": {},
   "source": [
    "Now that we know how to parse and merge all .txt files, we are going to do them for the negatives as well."
   ]
  },
  {
   "cell_type": "code",
   "execution_count": 40,
   "metadata": {},
   "outputs": [
    {
     "name": "stdout",
     "output_type": "stream",
     "text": [
      "['1821_4.txt', '10402_1.txt', '1062_4.txt', '9056_1.txt', '5392_3.txt', '2682_3.txt', '3351_4.txt', '399_2.txt', '10447_1.txt', '10096_1.txt']\n"
     ]
    }
   ],
   "source": [
    "train_neg = read_txt_files(folder_path=data_loc+\"train/neg/\")"
   ]
  },
  {
   "cell_type": "code",
   "execution_count": 41,
   "metadata": {},
   "outputs": [
    {
     "name": "stdout",
     "output_type": "stream",
     "text": [
      "Positive examples = 12500\n",
      "Negative examples = 12500\n"
     ]
    }
   ],
   "source": [
    "print(\"Positive examples = \" + str(len(train_pos)))\n",
    "print(\"Negative examples = \" + str(len(train_neg)))"
   ]
  },
  {
   "cell_type": "markdown",
   "metadata": {},
   "source": [
    "We are going to use the same function later on to load our test data."
   ]
  },
  {
   "cell_type": "markdown",
   "metadata": {},
   "source": [
    "## Data Preparation"
   ]
  },
  {
   "cell_type": "code",
   "execution_count": null,
   "metadata": {
    "collapsed": true
   },
   "outputs": [],
   "source": []
  }
 ],
 "metadata": {
  "kernelspec": {
   "display_name": "Python 3",
   "language": "python",
   "name": "python3"
  },
  "language_info": {
   "codemirror_mode": {
    "name": "ipython",
    "version": 3
   },
   "file_extension": ".py",
   "mimetype": "text/x-python",
   "name": "python",
   "nbconvert_exporter": "python",
   "pygments_lexer": "ipython3",
   "version": "3.6.1"
  }
 },
 "nbformat": 4,
 "nbformat_minor": 2
}
