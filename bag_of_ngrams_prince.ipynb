{
 "cells": [
  {
   "cell_type": "markdown",
   "metadata": {},
   "source": [
    "<h1 id=\"tocheading\">Table of Contents</h1>\n",
    "<div id=\"toc\"></div>"
   ]
  },
  {
   "cell_type": "code",
   "execution_count": 1,
   "metadata": {},
   "outputs": [
    {
     "data": {
      "application/javascript": [
       "\n",
       "$.getScript('https://kmahelona.github.io/ipython_notebook_goodies/ipython_notebook_toc.js')"
      ],
      "text/plain": [
       "<IPython.core.display.Javascript object>"
      ]
     },
     "metadata": {},
     "output_type": "display_data"
    }
   ],
   "source": [
    "%%javascript\n",
    "\n",
    "$.getScript('https://kmahelona.github.io/ipython_notebook_goodies/ipython_notebook_toc.js')"
   ]
  },
  {
   "cell_type": "markdown",
   "metadata": {},
   "source": [
    "## import modules"
   ]
  },
  {
   "cell_type": "code",
   "execution_count": 17,
   "metadata": {
    "collapsed": true
   },
   "outputs": [],
   "source": [
    "import itertools\n",
    "import os\n",
    "import random\n",
    "import pickle as pkl\n",
    "from collections import Counter\n",
    "import numpy as np\n",
    "import torch\n",
    "from torch.utils.data import Dataset\n",
    "import spacy\n",
    "import string\n",
    "import torch\n",
    "import torch.nn as nn\n",
    "import torch.nn.functional as F"
   ]
  },
  {
   "cell_type": "markdown",
   "metadata": {},
   "source": [
    "## Data Loading\n",
    "\n",
    "The dataset was downloaded from: http://ai.stanford.edu/~amaas/data/sentiment/"
   ]
  },
  {
   "cell_type": "code",
   "execution_count": 8,
   "metadata": {
    "collapsed": true
   },
   "outputs": [],
   "source": [
    "data_loc = \"data/imdb_reviews/\""
   ]
  },
  {
   "cell_type": "code",
   "execution_count": 9,
   "metadata": {
    "collapsed": true
   },
   "outputs": [],
   "source": [
    "def read_txt_files(folder_path):\n",
    "    \"\"\"Reads all .txt files in a folder to a list\"\"\"\n",
    "    \n",
    "    file_list = os.listdir(folder_path)\n",
    "    # for debugging, printing out the folder path and some files in it\n",
    "    print(folder_path)\n",
    "    print(file_list[:10])\n",
    "    \n",
    "    all_reviews = []\n",
    "    for file_path in file_list:\n",
    "        f = open(folder_path + file_path,\"r\")\n",
    "        all_reviews.append(f.readline())\n",
    "        \n",
    "    return all_reviews"
   ]
  },
  {
   "cell_type": "code",
   "execution_count": 10,
   "metadata": {
    "scrolled": true
   },
   "outputs": [
    {
     "name": "stdout",
     "output_type": "stream",
     "text": [
      "data/imdb_reviews/train/pos/\n",
      "['4715_9.txt', '12390_8.txt', '8329_7.txt', '9063_8.txt', '3092_10.txt', '9865_8.txt', '6639_10.txt', '10460_10.txt', '10331_10.txt', '11606_10.txt']\n",
      "12500\n",
      "data/imdb_reviews/train/neg/\n",
      "['1821_4.txt', '10402_1.txt', '1062_4.txt', '9056_1.txt', '5392_3.txt', '2682_3.txt', '3351_4.txt', '399_2.txt', '10447_1.txt', '10096_1.txt']\n",
      "12500\n",
      "data/imdb_reviews/test/pos/\n",
      "['4715_9.txt', '1930_9.txt', '3205_9.txt', '10186_10.txt', '147_10.txt', '7511_7.txt', '616_10.txt', '10460_10.txt', '3240_9.txt', '1975_9.txt']\n",
      "12500\n",
      "data/imdb_reviews/test/neg/\n",
      "['1821_4.txt', '9487_1.txt', '4604_4.txt', '2828_2.txt', '10890_1.txt', '3351_4.txt', '8070_2.txt', '1027_4.txt', '8248_3.txt', '4290_4.txt']\n",
      "12500\n"
     ]
    }
   ],
   "source": [
    "train_pos = read_txt_files(folder_path=data_loc+\"train/pos/\")\n",
    "print(len(train_pos))\n",
    "train_neg = read_txt_files(folder_path=data_loc+\"train/neg/\")\n",
    "print(len(train_neg))\n",
    "test_pos = read_txt_files(folder_path=data_loc+\"test/pos/\")\n",
    "print(len(test_pos))\n",
    "test_neg = read_txt_files(folder_path=data_loc+\"test/neg/\")\n",
    "print(len(test_neg))"
   ]
  },
  {
   "cell_type": "code",
   "execution_count": 11,
   "metadata": {},
   "outputs": [
    {
     "name": "stdout",
     "output_type": "stream",
     "text": [
      "Train Positive examples = 12500\n",
      "Train Negative examples = 12500\n",
      "Test Positive examples = 12500\n",
      "Test Negative examples = 12500\n"
     ]
    }
   ],
   "source": [
    "print(\"Train Positive examples = \" + str(len(train_pos)))\n",
    "print(\"Train Negative examples = \" + str(len(train_neg)))\n",
    "print(\"Test Positive examples = \" + str(len(test_pos)))\n",
    "print(\"Test Negative examples = \" + str(len(test_neg)))"
   ]
  },
  {
   "cell_type": "markdown",
   "metadata": {},
   "source": [
    "## Label Generation"
   ]
  },
  {
   "cell_type": "code",
   "execution_count": 18,
   "metadata": {},
   "outputs": [
    {
     "name": "stdout",
     "output_type": "stream",
     "text": [
      "25000\n",
      "[1 1 1 ... 0 0 0]\n",
      "25000\n",
      "[1 1 1 ... 0 0 0]\n"
     ]
    }
   ],
   "source": [
    "train_pos_labels = np.ones((len(train_pos),), dtype=int)\n",
    "train_pos_labels\n",
    "\n",
    "train_neg_labels = np.zeros((len(train_neg),), dtype=int)\n",
    "train_neg_labels\n",
    "\n",
    "train_data_labels = np.concatenate((train_pos_labels,train_neg_labels))\n",
    "print(len(train_data_labels))\n",
    "print(train_data_labels)\n",
    "\n",
    "test_pos_labels = np.ones((len(test_pos),), dtype=int)\n",
    "test_neg_labels = np.zeros((len(test_neg),), dtype=int)\n",
    "test_data_labels = np.concatenate((test_pos_labels,test_neg_labels))\n",
    "print(len(test_data_labels))\n",
    "print(test_data_labels)"
   ]
  },
  {
   "cell_type": "code",
   "execution_count": 19,
   "metadata": {
    "collapsed": true
   },
   "outputs": [],
   "source": [
    "import re\n",
    "\n",
    "def cleanhtml(raw_html):\n",
    "    cleanr = re.compile('<.*?>')\n",
    "    cleantext = re.sub(cleanr, '', raw_html)\n",
    "    return cleantext"
   ]
  },
  {
   "cell_type": "code",
   "execution_count": 20,
   "metadata": {
    "collapsed": true
   },
   "outputs": [],
   "source": [
    "train_pos_clean = [cleanhtml(x) for x in train_pos]\n",
    "train_neg_clean = [cleanhtml(x) for x in train_neg]\n",
    "\n",
    "test_pos_clean = [cleanhtml(x) for x in test_pos]\n",
    "test_neg_clean = [cleanhtml(x) for x in test_neg]"
   ]
  },
  {
   "cell_type": "code",
   "execution_count": 21,
   "metadata": {},
   "outputs": [
    {
     "data": {
      "text/plain": [
       "25000"
      ]
     },
     "execution_count": 21,
     "metadata": {},
     "output_type": "execute_result"
    }
   ],
   "source": [
    "train_all_clean = train_pos_clean + train_neg_clean\n",
    "len(train_all_clean)\n",
    "\n",
    "test_all_clean = test_pos_clean + test_neg_clean\n",
    "len(test_all_clean)"
   ]
  },
  {
   "cell_type": "code",
   "execution_count": 24,
   "metadata": {},
   "outputs": [
    {
     "name": "stdout",
     "output_type": "stream",
     "text": [
      "25000\n",
      "[22336  3102 14767 ... 12730 18193 15777]\n",
      "20000\n",
      "20000\n",
      "5000\n",
      "5000\n"
     ]
    }
   ],
   "source": [
    "training_size = 20000\n",
    "\n",
    "assert training_size < 25000\n",
    "\n",
    "shuffled_index = np.random.permutation(len(train_all_clean))\n",
    "print(len(shuffled_index))\n",
    "print(shuffled_index)\n",
    "\n",
    "training_all_clean = [train_all_clean[i] for i in shuffled_index[:training_size]]\n",
    "training_labels = [train_data_labels[i] for i in shuffled_index[:training_size]]\n",
    "print(len(training_all_clean))\n",
    "print(len(training_labels))\n",
    "\n",
    "validation_all_clean = [train_all_clean[i] for i in shuffled_index[training_size:]]\n",
    "validation_labels = [train_data_labels[i] for i in shuffled_index[training_size:]]\n",
    "print(len(validation_all_clean))\n",
    "print(len(validation_labels))\n"
   ]
  },
  {
   "cell_type": "markdown",
   "metadata": {},
   "source": [
    "## Tokenization"
   ]
  },
  {
   "cell_type": "code",
   "execution_count": 25,
   "metadata": {
    "collapsed": true
   },
   "outputs": [],
   "source": [
    "import spacy\n",
    "import string\n",
    "\n",
    "# Load English tokenizer, tagger, parser, NER and word vectors\n",
    "tokenizer = spacy.load('en_core_web_sm')\n",
    "punctuations = string.punctuation\n",
    "\n",
    "# This is word tokenizer\n",
    "# # lowercase and remove punctuation\n",
    "# def tokenize(sent):\n",
    "#     tokens = tokenizer(sent)\n",
    "#     return [token.text.lower() for token in tokens if (token.text not in punctuations)]\n",
    "#     #return [token.text.lower() for token in tokens]\n",
    "    \n",
    "# Modified for n-grams\n",
    "def tokenize(sent, n_gram = 0, lemmatize = False):\n",
    "    \n",
    "    tokens = tokenizer(sent)\n",
    "    \n",
    "    # unigrams\n",
    "    if lemmatize == False:\n",
    "        unigrams = [token.text.lower() for token in tokens if (token.text not in punctuations)]\n",
    "    else:\n",
    "        #LEMMATIZED\n",
    "        unigrams = [token.lemma_.lower() for token in tokens if (token.text not in punctuations)]\n",
    "    \n",
    "    \n",
    "    output = []\n",
    "    output.extend(unigrams)\n",
    "    \n",
    "    n = 2\n",
    "    while n <= n_gram:\n",
    "        ngram_tokens = [\" \".join(unigrams[x:x+n])                             for x in range(len(unigrams)-n+1)]\n",
    "        output.extend(ngram_tokens)\n",
    "        n = n + 1\n",
    "        \n",
    "    return output"
   ]
  },
  {
   "cell_type": "code",
   "execution_count": 26,
   "metadata": {
    "collapsed": true
   },
   "outputs": [],
   "source": [
    "def lower_case_remove_punc(parsed):\n",
    "    return [token.text.lower() for token in parsed if (token.text not in punctuations)]\n",
    "\n",
    "def tokenize_dataset(dataset, n_gram, lemmatize = False):\n",
    "    token_dataset = []\n",
    "    # we are keeping track of all tokens in dataset\n",
    "    # in order to create vocabulary later\n",
    "    all_tokens = []\n",
    "\n",
    "#     for sample in tqdm_notebook(tokenizer.pipe(dataset, \n",
    "#                                                disable=['parser', 'tagger', 'ner'], \n",
    "#                                                batch_size=512, \n",
    "#                                                n_threads=4)):\n",
    "\n",
    "    itr = 0\n",
    "    for sample in dataset:\n",
    "        \n",
    "        if itr % 50 == 0:\n",
    "            print(str(itr) + \" / \" + str(len(dataset)))\n",
    "        # unigram version\n",
    "        #tokens = lower_case_remove_punc(sample)\n",
    "        \n",
    "        # n-gram version\n",
    "        tokens = tokenize(sample,n_gram, lemmatize = False)\n",
    "        \n",
    "        token_dataset.append(tokens)\n",
    "        all_tokens += tokens\n",
    "        \n",
    "        itr = itr + 1\n",
    "\n",
    "    return token_dataset, all_tokens"
   ]
  },
  {
   "cell_type": "code",
   "execution_count": 27,
   "metadata": {
    "collapsed": true
   },
   "outputs": [],
   "source": [
    "# convert token to id in the dataset\n",
    "def token2index_dataset(tokens_data, token2id):\n",
    "    indices_data = []\n",
    "    for tokens in tokens_data:\n",
    "        index_list = [token2id[token] if token in token2id else UNK_IDX for token in tokens]\n",
    "        indices_data.append(index_list)\n",
    "    return indices_data"
   ]
  },
  {
   "cell_type": "code",
   "execution_count": 28,
   "metadata": {
    "collapsed": true
   },
   "outputs": [],
   "source": [
    "# save index 0 for unk and 1 for pad\n",
    "PAD_IDX = 0\n",
    "UNK_IDX = 1\n",
    "\n",
    "def build_vocab(all_tokens, max_vocab_size = 10000):\n",
    "    # Returns:\n",
    "    # id2token: list of tokens, where id2token[i] returns token that corresponds to token i\n",
    "    # token2id: dictionary where keys represent tokens and corresponding values represent indices\n",
    "    token_counter = Counter(all_tokens)\n",
    "    vocab, count = zip(*token_counter.most_common(max_vocab_size))\n",
    "    id2token = list(vocab)\n",
    "    token2id = dict(zip(vocab, range(2,2+len(vocab)))) \n",
    "    id2token = ['<pad>', '<unk>'] + id2token\n",
    "    token2id['<pad>'] = PAD_IDX \n",
    "    token2id['<unk>'] = UNK_IDX\n",
    "    return token2id, id2token"
   ]
  },
  {
   "cell_type": "code",
   "execution_count": 29,
   "metadata": {
    "collapsed": true
   },
   "outputs": [],
   "source": [
    "grams = [1,2,3]\n",
    "lemmatize_list = [True,False]"
   ]
  },
  {
   "cell_type": "code",
   "execution_count": null,
   "metadata": {
    "collapsed": true
   },
   "outputs": [],
   "source": [
    "for lemmatize_arg in lemmatize_list:\n",
    "    for gram_no in grams:\n",
    "        print(str(gram_no))\n",
    "\n",
    "        train_data_tokens, all_train_tokens = tokenize_dataset(training_all_clean,\n",
    "                                                               n_gram=gram_no, \n",
    "                                                               lemmatize = lemmatize_arg)\n",
    "\n",
    "        # Tokenize Validation\n",
    "        val_data_tokens, _ = tokenize_dataset(validation_all_clean,\n",
    "                                              n_gram=gram_no, \n",
    "                                              lemmatize = lemmatize_arg)\n",
    "\n",
    "        if lemmatize_arg == True:\n",
    "            gram_no = str(gram_no) + \"_lemma\"\n",
    "        else:\n",
    "            gram_no = str(gram_no)\n",
    "        print(gram_no)\n",
    "\n",
    "        # val set tokens\n",
    "        print (\"Tokenizing val data\")\n",
    "        pkl.dump(val_data_tokens, open(\"val_data_tokens_\"+str(gram_no)+\".p\", \"wb\"))\n",
    "\n",
    "        # train set tokens\n",
    "        print (\"Tokenizing train data\")\n",
    "        pkl.dump(train_data_tokens, open(\"train_data_tokens_\"+str(gram_no)+\".p\", \"wb\"))\n",
    "        pkl.dump(all_train_tokens, open(\"all_train_tokens_\"+str(gram_no)+\".p\", \"wb\"))\n"
   ]
  },
  {
   "cell_type": "code",
   "execution_count": 30,
   "metadata": {
    "collapsed": true
   },
   "outputs": [],
   "source": [
    "MAX_SENTENCE_LENGTH = 200"
   ]
  },
  {
   "cell_type": "code",
   "execution_count": 31,
   "metadata": {
    "collapsed": true
   },
   "outputs": [],
   "source": [
    "class IMDBDataset(Dataset):\n",
    "    \"\"\"\n",
    "    Class that represents a train/validation/test dataset that's \n",
    "    readable for PyTorch\n",
    "    Note that this class inherits torch.utils.data.Dataset\n",
    "    \"\"\"\n",
    "    \n",
    "    def __init__(self, data_list, target_list):\n",
    "        \"\"\"\n",
    "        @param data_list: list of newsgroup tokens \n",
    "        @param target_list: list of newsgroup targets \n",
    "\n",
    "        \"\"\"\n",
    "        self.data_list = data_list\n",
    "        self.target_list = target_list\n",
    "        assert (len(self.data_list) == len(self.target_list))\n",
    "\n",
    "    def __len__(self):\n",
    "        return len(self.data_list)\n",
    "        \n",
    "    def __getitem__(self, key):\n",
    "        \"\"\"\n",
    "        Triggered when you call dataset[i]\n",
    "        \"\"\"\n",
    "        \n",
    "        token_idx = self.data_list[key][:MAX_SENTENCE_LENGTH]\n",
    "        label = self.target_list[key]\n",
    "        return [token_idx, len(token_idx), label]"
   ]
  },
  {
   "cell_type": "code",
   "execution_count": 32,
   "metadata": {
    "collapsed": true
   },
   "outputs": [],
   "source": [
    "def imdb_func(batch):\n",
    "    \"\"\"\n",
    "    Customized function for DataLoader that dynamically pads the batch so that all \n",
    "    data have the same length\n",
    "    \"\"\"\n",
    "    data_list = []\n",
    "    label_list = []\n",
    "    length_list = []\n",
    "    #print(\"collate batch: \", batch[0][0])\n",
    "    #batch[0][0] = batch[0][0][:MAX_SENTENCE_LENGTH]\n",
    "    for datum in batch:\n",
    "        label_list.append(datum[2])\n",
    "        length_list.append(datum[1])\n",
    "    # padding\n",
    "    for datum in batch:\n",
    "        padded_vec = np.pad(np.array(datum[0]), \n",
    "                                pad_width=((0,MAX_SENTENCE_LENGTH-datum[1])), \n",
    "                                mode=\"constant\", constant_values=0)\n",
    "        data_list.append(padded_vec)\n",
    "    return [torch.from_numpy(np.array(data_list)), \n",
    "            torch.LongTensor(length_list), \n",
    "            torch.LongTensor(label_list)]"
   ]
  },
  {
   "cell_type": "code",
   "execution_count": 33,
   "metadata": {
    "collapsed": true
   },
   "outputs": [],
   "source": [
    "class BagOfNgrams(nn.Module):\n",
    "    \"\"\"\n",
    "    BagOfNgrams classification model\n",
    "    \"\"\"\n",
    "    def __init__(self, vocab_size, emb_dim):\n",
    "        \"\"\"\n",
    "        @param vocab_size: size of the vocabulary. \n",
    "        @param emb_dim: size of the word embedding\n",
    "        \"\"\"\n",
    "        super(BagOfNgrams, self).__init__()\n",
    "        # pay attention to padding_idx \n",
    "        self.embed = nn.Embedding(vocab_size, emb_dim, padding_idx=0)\n",
    "        self.linear = nn.Linear(emb_dim,20)\n",
    "    \n",
    "    def forward(self, data, length):\n",
    "        \"\"\"\n",
    "        \n",
    "        @param data: matrix of size (batch_size, max_sentence_length). Each row in data represents a \n",
    "            review that is represented using n-gram index. Note that they are padded to have same length.\n",
    "        @param length: an int tensor of size (batch_size), which represents the non-trivial (excludes padding)\n",
    "            length of each sentences in the data.\n",
    "        \"\"\"\n",
    "        out = self.embed(data)\n",
    "        out = torch.sum(out, dim=1)\n",
    "        out /= length.view(length.size()[0],1).expand_as(out).float()\n",
    "     \n",
    "        # return logits\n",
    "        out = self.linear(out.float())\n",
    "        return out"
   ]
  },
  {
   "cell_type": "code",
   "execution_count": 34,
   "metadata": {
    "collapsed": true
   },
   "outputs": [],
   "source": [
    "# Function for testing the model\n",
    "def test_model(loader, model):\n",
    "    \"\"\"\n",
    "    Help function that tests the model's performance on a dataset\n",
    "    @param: loader - data loader for the dataset to test against\n",
    "    \"\"\"\n",
    "    correct = 0\n",
    "    total = 0\n",
    "    model.eval()\n",
    "    for data, lengths, labels in loader:\n",
    "        data_batch, length_batch, label_batch = data, lengths, labels\n",
    "        outputs = F.softmax(model(data_batch, length_batch), dim=1)\n",
    "        predicted = outputs.max(1, keepdim=True)[1]\n",
    "        \n",
    "        total += labels.size(0)\n",
    "        correct += predicted.eq(labels.view_as(predicted)).sum().item()\n",
    "    return (100 * correct / total)"
   ]
  },
  {
   "cell_type": "code",
   "execution_count": 36,
   "metadata": {},
   "outputs": [
    {
     "name": "stdout",
     "output_type": "stream",
     "text": [
      "144\n"
     ]
    },
    {
     "data": {
      "text/plain": [
       "[(0.01, 1, 100000.0, 100, 64),\n",
       " (0.01, 1, 100000.0, 100, 128),\n",
       " (0.01, 1, 100000.0, 150, 64),\n",
       " (0.01, 1, 100000.0, 150, 128),\n",
       " (0.01, 1, 100000.0, 200, 64),\n",
       " (0.01, 1, 100000.0, 200, 128),\n",
       " (0.01, 1, 1000000.0, 100, 64),\n",
       " (0.01, 1, 1000000.0, 100, 128),\n",
       " (0.01, 1, 1000000.0, 150, 64),\n",
       " (0.01, 1, 1000000.0, 150, 128),\n",
       " (0.01, 1, 1000000.0, 200, 64),\n",
       " (0.01, 1, 1000000.0, 200, 128),\n",
       " (0.01, 2, 100000.0, 100, 64),\n",
       " (0.01, 2, 100000.0, 100, 128),\n",
       " (0.01, 2, 100000.0, 150, 64),\n",
       " (0.01, 2, 100000.0, 150, 128),\n",
       " (0.01, 2, 100000.0, 200, 64),\n",
       " (0.01, 2, 100000.0, 200, 128),\n",
       " (0.01, 2, 1000000.0, 100, 64),\n",
       " (0.01, 2, 1000000.0, 100, 128),\n",
       " (0.01, 2, 1000000.0, 150, 64),\n",
       " (0.01, 2, 1000000.0, 150, 128),\n",
       " (0.01, 2, 1000000.0, 200, 64),\n",
       " (0.01, 2, 1000000.0, 200, 128),\n",
       " (0.01, 3, 100000.0, 100, 64),\n",
       " (0.01, 3, 100000.0, 100, 128),\n",
       " (0.01, 3, 100000.0, 150, 64),\n",
       " (0.01, 3, 100000.0, 150, 128),\n",
       " (0.01, 3, 100000.0, 200, 64),\n",
       " (0.01, 3, 100000.0, 200, 128),\n",
       " (0.01, 3, 1000000.0, 100, 64),\n",
       " (0.01, 3, 1000000.0, 100, 128),\n",
       " (0.01, 3, 1000000.0, 150, 64),\n",
       " (0.01, 3, 1000000.0, 150, 128),\n",
       " (0.01, 3, 1000000.0, 200, 64),\n",
       " (0.01, 3, 1000000.0, 200, 128),\n",
       " (0.1, 1, 100000.0, 100, 64),\n",
       " (0.1, 1, 100000.0, 100, 128),\n",
       " (0.1, 1, 100000.0, 150, 64),\n",
       " (0.1, 1, 100000.0, 150, 128),\n",
       " (0.1, 1, 100000.0, 200, 64),\n",
       " (0.1, 1, 100000.0, 200, 128),\n",
       " (0.1, 1, 1000000.0, 100, 64),\n",
       " (0.1, 1, 1000000.0, 100, 128),\n",
       " (0.1, 1, 1000000.0, 150, 64),\n",
       " (0.1, 1, 1000000.0, 150, 128),\n",
       " (0.1, 1, 1000000.0, 200, 64),\n",
       " (0.1, 1, 1000000.0, 200, 128),\n",
       " (0.1, 2, 100000.0, 100, 64),\n",
       " (0.1, 2, 100000.0, 100, 128),\n",
       " (0.1, 2, 100000.0, 150, 64),\n",
       " (0.1, 2, 100000.0, 150, 128),\n",
       " (0.1, 2, 100000.0, 200, 64),\n",
       " (0.1, 2, 100000.0, 200, 128),\n",
       " (0.1, 2, 1000000.0, 100, 64),\n",
       " (0.1, 2, 1000000.0, 100, 128),\n",
       " (0.1, 2, 1000000.0, 150, 64),\n",
       " (0.1, 2, 1000000.0, 150, 128),\n",
       " (0.1, 2, 1000000.0, 200, 64),\n",
       " (0.1, 2, 1000000.0, 200, 128),\n",
       " (0.1, 3, 100000.0, 100, 64),\n",
       " (0.1, 3, 100000.0, 100, 128),\n",
       " (0.1, 3, 100000.0, 150, 64),\n",
       " (0.1, 3, 100000.0, 150, 128),\n",
       " (0.1, 3, 100000.0, 200, 64),\n",
       " (0.1, 3, 100000.0, 200, 128),\n",
       " (0.1, 3, 1000000.0, 100, 64),\n",
       " (0.1, 3, 1000000.0, 100, 128),\n",
       " (0.1, 3, 1000000.0, 150, 64),\n",
       " (0.1, 3, 1000000.0, 150, 128),\n",
       " (0.1, 3, 1000000.0, 200, 64),\n",
       " (0.1, 3, 1000000.0, 200, 128),\n",
       " (1, 1, 100000.0, 100, 64),\n",
       " (1, 1, 100000.0, 100, 128),\n",
       " (1, 1, 100000.0, 150, 64),\n",
       " (1, 1, 100000.0, 150, 128),\n",
       " (1, 1, 100000.0, 200, 64),\n",
       " (1, 1, 100000.0, 200, 128),\n",
       " (1, 1, 1000000.0, 100, 64),\n",
       " (1, 1, 1000000.0, 100, 128),\n",
       " (1, 1, 1000000.0, 150, 64),\n",
       " (1, 1, 1000000.0, 150, 128),\n",
       " (1, 1, 1000000.0, 200, 64),\n",
       " (1, 1, 1000000.0, 200, 128),\n",
       " (1, 2, 100000.0, 100, 64),\n",
       " (1, 2, 100000.0, 100, 128),\n",
       " (1, 2, 100000.0, 150, 64),\n",
       " (1, 2, 100000.0, 150, 128),\n",
       " (1, 2, 100000.0, 200, 64),\n",
       " (1, 2, 100000.0, 200, 128),\n",
       " (1, 2, 1000000.0, 100, 64),\n",
       " (1, 2, 1000000.0, 100, 128),\n",
       " (1, 2, 1000000.0, 150, 64),\n",
       " (1, 2, 1000000.0, 150, 128),\n",
       " (1, 2, 1000000.0, 200, 64),\n",
       " (1, 2, 1000000.0, 200, 128),\n",
       " (1, 3, 100000.0, 100, 64),\n",
       " (1, 3, 100000.0, 100, 128),\n",
       " (1, 3, 100000.0, 150, 64),\n",
       " (1, 3, 100000.0, 150, 128),\n",
       " (1, 3, 100000.0, 200, 64),\n",
       " (1, 3, 100000.0, 200, 128),\n",
       " (1, 3, 1000000.0, 100, 64),\n",
       " (1, 3, 1000000.0, 100, 128),\n",
       " (1, 3, 1000000.0, 150, 64),\n",
       " (1, 3, 1000000.0, 150, 128),\n",
       " (1, 3, 1000000.0, 200, 64),\n",
       " (1, 3, 1000000.0, 200, 128),\n",
       " (2, 1, 100000.0, 100, 64),\n",
       " (2, 1, 100000.0, 100, 128),\n",
       " (2, 1, 100000.0, 150, 64),\n",
       " (2, 1, 100000.0, 150, 128),\n",
       " (2, 1, 100000.0, 200, 64),\n",
       " (2, 1, 100000.0, 200, 128),\n",
       " (2, 1, 1000000.0, 100, 64),\n",
       " (2, 1, 1000000.0, 100, 128),\n",
       " (2, 1, 1000000.0, 150, 64),\n",
       " (2, 1, 1000000.0, 150, 128),\n",
       " (2, 1, 1000000.0, 200, 64),\n",
       " (2, 1, 1000000.0, 200, 128),\n",
       " (2, 2, 100000.0, 100, 64),\n",
       " (2, 2, 100000.0, 100, 128),\n",
       " (2, 2, 100000.0, 150, 64),\n",
       " (2, 2, 100000.0, 150, 128),\n",
       " (2, 2, 100000.0, 200, 64),\n",
       " (2, 2, 100000.0, 200, 128),\n",
       " (2, 2, 1000000.0, 100, 64),\n",
       " (2, 2, 1000000.0, 100, 128),\n",
       " (2, 2, 1000000.0, 150, 64),\n",
       " (2, 2, 1000000.0, 150, 128),\n",
       " (2, 2, 1000000.0, 200, 64),\n",
       " (2, 2, 1000000.0, 200, 128),\n",
       " (2, 3, 100000.0, 100, 64),\n",
       " (2, 3, 100000.0, 100, 128),\n",
       " (2, 3, 100000.0, 150, 64),\n",
       " (2, 3, 100000.0, 150, 128),\n",
       " (2, 3, 100000.0, 200, 64),\n",
       " (2, 3, 100000.0, 200, 128),\n",
       " (2, 3, 1000000.0, 100, 64),\n",
       " (2, 3, 1000000.0, 100, 128),\n",
       " (2, 3, 1000000.0, 150, 64),\n",
       " (2, 3, 1000000.0, 150, 128),\n",
       " (2, 3, 1000000.0, 200, 64),\n",
       " (2, 3, 1000000.0, 200, 128)]"
      ]
     },
     "execution_count": 36,
     "metadata": {},
     "output_type": "execute_result"
    }
   ],
   "source": [
    "params = [[1e-2,1e-1,1,2], ## learning rates\n",
    "          list(range(1,4)), ## ngrams\n",
    "          [1e5,1e6], ## vocab size\n",
    "          [100,150,200], ## embedding size\n",
    "#          [100,200], ## max sentence length\n",
    "          [64,128] ## batch size\n",
    "         ]\n",
    "\n",
    "# params = [[1e-1,1,2,5], ## learning rates\n",
    "#           list(range(1,2)), ## ngrams\n",
    "#           [1e5], ## vocab size\n",
    "#           [100], ## embedding size\n",
    "#           [100], ## max sentence length\n",
    "#           [64] ## batch size\n",
    "#          ]\n",
    "\n",
    "print(len([*itertools.product(*params)]))\n",
    "[*itertools.product(*params)]"
   ]
  },
  {
   "cell_type": "code",
   "execution_count": 37,
   "metadata": {
    "collapsed": true
   },
   "outputs": [],
   "source": [
    "def hyperparameter_search(hyperparameter_space=params,\n",
    "                          epochs=5,\n",
    "                          optimizer_name = \"Adam\",\n",
    "                          lemmatize = False):\n",
    "\n",
    "    # returns all the permutations of the parameter search space\n",
    "    param_space = [*itertools.product(*params)]\n",
    "    \n",
    "    # validation loss dictionary\n",
    "    val_losses = {}\n",
    "    \n",
    "    # counter for progress\n",
    "    count = 0\n",
    "    \n",
    "    for param_comb in param_space:\n",
    "        print(\"-----------------------------------------------------------\")\n",
    "        print(\"Parameter Combination = \" + str(count+1) + \" / \" + str(len(param_space)))\n",
    "        count = count + 1      \n",
    "        \n",
    "        NUM_EPOCHS = epochs\n",
    "        lr_rate = param_comb[0]             # learning rate\n",
    "        grams = param_comb[1]               # n-grams\n",
    "        max_vocab_size = int(param_comb[2]) # vocabulary size\n",
    "        embed_dimension = param_comb[3]     # embedding vector size\n",
    "        #max_sentence_length = int(param_comb[4]) # max sentence length of data loader\n",
    "        BATCH_SIZE = param_comb[4]\n",
    "        \n",
    "        print(\"Learning Rate = \" + str(lr_rate))\n",
    "        print(\"Ngram = \" + str(grams))\n",
    "        print(\"Vocab Size = \" + str(max_vocab_size))\n",
    "        print(\"Embedding Dimension = \" + str(embed_dimension))\n",
    "        #print(\"Max Sentence Length = \" + str(max_sentence_length))\n",
    "        print(\"Batch Size = \" + str(BATCH_SIZE))\n",
    "\n",
    "        # Tokenization\n",
    "        # All tokens are created before the hyperparameter search loop\n",
    "        # Load the tokens here\n",
    "        if lemmatize == True:\n",
    "            grams = \"lemma_\" + str(grams)\n",
    "        \n",
    "        train_data_tokens = pkl.load(open(\"train_data_tokens_\"+str(grams)+\".p\", \"rb\"))\n",
    "        all_train_tokens = pkl.load(open(\"all_train_tokens_\"+str(grams)+\".p\", \"rb\"))\n",
    "\n",
    "        val_data_tokens = pkl.load(open(\"val_data_tokens_\"+str(grams)+\".p\", \"rb\"))\n",
    "        \n",
    "        print(\"Train dataset size is {}\".format(len(train_data_tokens)))\n",
    "        print(\"Val dataset size is {}\".format(len(val_data_tokens)))\n",
    "        print(\"Total number of tokens in train dataset is {}\".format(len(all_train_tokens)))\n",
    "        \n",
    "        # Building Vocabulary\n",
    "        # implicitly gets the max_vocab_size parameter\n",
    "        token2id, id2token = build_vocab(all_train_tokens,\n",
    "                                         max_vocab_size=max_vocab_size)\n",
    "        \n",
    "        # Lets check the dictionary by loading random token from it\n",
    "        random_token_id = random.randint(0, len(id2token)-1)\n",
    "        random_token = id2token[random_token_id]\n",
    "        print (\"Token id {} -> token {}\".format(random_token_id, id2token[random_token_id]))\n",
    "        print (\"Token {} -> token id {}\".format(random_token, token2id[random_token]))\n",
    "        \n",
    "        train_data_indices = token2index_dataset(train_data_tokens, \n",
    "                                                 token2id = token2id)\n",
    "        val_data_indices = token2index_dataset(val_data_tokens, \n",
    "                                               token2id = token2id)\n",
    "        # double checking\n",
    "        print (\"Train dataset size is {}\".format(len(train_data_indices)))\n",
    "        print (\"Val dataset size is {}\".format(len(val_data_indices)))\n",
    "        \n",
    "        \n",
    "\n",
    "        # Load training and validation data\n",
    "        train_dataset = IMDBDataset(train_data_indices, \n",
    "                                    training_labels)\n",
    "        train_loader = torch.utils.data.DataLoader(dataset=train_dataset, \n",
    "                                                   batch_size=BATCH_SIZE,\n",
    "                                                   collate_fn=imdb_func,\n",
    "                                                   shuffle=True)\n",
    "\n",
    "        val_dataset = IMDBDataset(val_data_indices, \n",
    "                                  validation_labels)\n",
    "        val_loader = torch.utils.data.DataLoader(dataset=val_dataset, \n",
    "                                                   batch_size=BATCH_SIZE,\n",
    "                                                   collate_fn=imdb_func,\n",
    "                                                   shuffle=True)  \n",
    "\n",
    "        # Initialize the N-gram Model\n",
    "        model = BagOfNgrams(len(id2token), embed_dimension)\n",
    "        \n",
    "        # Both Adam and SGD will be tried\n",
    "        if optimizer_name == \"Adam\":\n",
    "            optimizer = torch.optim.Adam(model.parameters(), lr=lr_rate)\n",
    "        elif optimizer_name == \"SGD\":\n",
    "            optimizer = torch.optim.SGD(model.parameters(), lr=lr_rate)\n",
    "        else:\n",
    "            print(\"this optimizer is not implemented yet\")\n",
    "        \n",
    "        # Cross Entropy Loss will be used\n",
    "        criterion = torch.nn.CrossEntropyLoss()  \n",
    "        \n",
    "        # Validation Losses will be stored in a list\n",
    "        # Caution: Two different optimizers\n",
    "        val_losses[param_comb] = []\n",
    "        \n",
    "    #for optimizer in optimizers:\n",
    "        print(\"Optimization Start\")\n",
    "        print(optimizer)\n",
    "\n",
    "        for epoch in range(NUM_EPOCHS):\n",
    "            for i, (data, lengths, labels) in enumerate(train_loader):\n",
    "                model.train()\n",
    "                data_batch, length_batch, label_batch = data, lengths, labels\n",
    "                optimizer.zero_grad()\n",
    "                outputs = model(data_batch, length_batch)\n",
    "                loss = criterion(outputs, label_batch)\n",
    "                loss.backward()\n",
    "                optimizer.step()\n",
    "                # Validate every 100 iterations\n",
    "                # Adjust it to accustom changing batch sizes\n",
    "                if i > 0 and i % (50 * (64 / BATCH_SIZE)) == 0:\n",
    "\n",
    "                    # Accuracy Calculations\n",
    "                    train_acc = test_model(train_loader, model)\n",
    "                    val_acc = test_model(val_loader, model)\n",
    "                    val_losses[param_comb].append(val_acc)\n",
    "\n",
    "                    # Logging\n",
    "                    print('Epoch:[{}/{}],Step:[{}/{}],Training Acc:{},Validation Acc:{}'.format( \n",
    "                               epoch+1, NUM_EPOCHS, \n",
    "                                i+1, len(train_loader), \n",
    "                                train_acc, val_acc))\n",
    "                      \n",
    "    return val_losses\n"
   ]
  },
  {
   "cell_type": "code",
   "execution_count": 37,
   "metadata": {},
   "outputs": [
    {
     "name": "stdout",
     "output_type": "stream",
     "text": [
      "-----------------------------------------------------------\n",
      "Parameter Combination = 1 / 288\n",
      "Learning Rate = 0.01\n",
      "Ngram = 1\n",
      "Vocab Size = 100000\n",
      "Embedding Dimension = 100\n",
      "Max Sentence Length = 100\n",
      "Batch Size = 64\n",
      "Train dataset size is 20000\n",
      "Val dataset size is 5000\n",
      "Total number of tokens in train dataset is 4763856\n",
      "Token id 83039 -> token hawkeye\n",
      "Token hawkeye -> token id 83039\n",
      "Train dataset size is 20000\n",
      "Val dataset size is 5000\n"
     ]
    },
    {
     "ename": "NameError",
     "evalue": "name 'training_labels' is not defined",
     "output_type": "error",
     "traceback": [
      "\u001b[0;31m---------------------------------------------------------------------------\u001b[0m",
      "\u001b[0;31mNameError\u001b[0m                                 Traceback (most recent call last)",
      "\u001b[0;32m<ipython-input-37-369e3b971405>\u001b[0m in \u001b[0;36m<module>\u001b[0;34m()\u001b[0m\n\u001b[1;32m      2\u001b[0m                                          \u001b[0mepochs\u001b[0m \u001b[0;34m=\u001b[0m \u001b[0;36m5\u001b[0m\u001b[0;34m,\u001b[0m\u001b[0;34m\u001b[0m\u001b[0m\n\u001b[1;32m      3\u001b[0m                                          \u001b[0moptimizer_name\u001b[0m \u001b[0;34m=\u001b[0m \u001b[0;34m\"Adam\"\u001b[0m\u001b[0;34m,\u001b[0m\u001b[0;34m\u001b[0m\u001b[0m\n\u001b[0;32m----> 4\u001b[0;31m                                           lemmatize = False)\n\u001b[0m",
      "\u001b[0;32m<ipython-input-36-5ff5b87ca0c9>\u001b[0m in \u001b[0;36mhyperparameter_search\u001b[0;34m(hyperparameter_space, epochs, optimizer_name, lemmatize)\u001b[0m\n\u001b[1;32m     69\u001b[0m         \u001b[0;31m# Load training and validation data\u001b[0m\u001b[0;34m\u001b[0m\u001b[0;34m\u001b[0m\u001b[0m\n\u001b[1;32m     70\u001b[0m         train_dataset = IMDBDataset(train_data_indices, \n\u001b[0;32m---> 71\u001b[0;31m                                     training_labels)\n\u001b[0m\u001b[1;32m     72\u001b[0m         train_loader = torch.utils.data.DataLoader(dataset=train_dataset, \n\u001b[1;32m     73\u001b[0m                                                    \u001b[0mbatch_size\u001b[0m\u001b[0;34m=\u001b[0m\u001b[0mBATCH_SIZE\u001b[0m\u001b[0;34m,\u001b[0m\u001b[0;34m\u001b[0m\u001b[0m\n",
      "\u001b[0;31mNameError\u001b[0m: name 'training_labels' is not defined"
     ]
    }
   ],
   "source": [
    "param_val_losses_adam = hyperparameter_search(hyperparameter_space = params,\n",
    "                                         epochs = 5,\n",
    "                                         optimizer_name = \"Adam\",\n",
    "                                          lemmatize = False)"
   ]
  },
  {
   "cell_type": "code",
   "execution_count": null,
   "metadata": {
    "collapsed": true
   },
   "outputs": [],
   "source": []
  }
 ],
 "metadata": {
  "kernelspec": {
   "display_name": "Python 3",
   "language": "python",
   "name": "python3"
  },
  "language_info": {
   "codemirror_mode": {
    "name": "ipython",
    "version": 3
   },
   "file_extension": ".py",
   "mimetype": "text/x-python",
   "name": "python",
   "nbconvert_exporter": "python",
   "pygments_lexer": "ipython3",
   "version": "3.6.1"
  }
 },
 "nbformat": 4,
 "nbformat_minor": 2
}
