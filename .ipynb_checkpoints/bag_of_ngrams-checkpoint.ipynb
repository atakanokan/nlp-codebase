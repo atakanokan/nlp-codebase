{
 "cells": [
  {
   "cell_type": "markdown",
   "metadata": {},
   "source": [
    "<h1 id=\"tocheading\">Table of Contents</h1>\n",
    "<div id=\"toc\"></div>"
   ]
  },
  {
   "cell_type": "code",
   "execution_count": 2,
   "metadata": {},
   "outputs": [
    {
     "data": {
      "application/javascript": [
       "\n",
       "$.getScript('https://kmahelona.github.io/ipython_notebook_goodies/ipython_notebook_toc.js')"
      ],
      "text/plain": [
       "<IPython.core.display.Javascript object>"
      ]
     },
     "metadata": {},
     "output_type": "display_data"
    }
   ],
   "source": [
    "%%javascript\n",
    "\n",
    "$.getScript('https://kmahelona.github.io/ipython_notebook_goodies/ipython_notebook_toc.js')"
   ]
  },
  {
   "cell_type": "markdown",
   "metadata": {},
   "source": [
    "This script uses bag-of-ngrams approach to sentiment classification using the IMDB review dataset."
   ]
  },
  {
   "cell_type": "markdown",
   "metadata": {},
   "source": [
    "# PyTorch"
   ]
  },
  {
   "cell_type": "markdown",
   "metadata": {},
   "source": [
    "## Data Loading"
   ]
  },
  {
   "cell_type": "markdown",
   "metadata": {},
   "source": [
    "The dataset was downloaded from: http://ai.stanford.edu/~amaas/data/sentiment/"
   ]
  },
  {
   "cell_type": "code",
   "execution_count": 7,
   "metadata": {
    "collapsed": true
   },
   "outputs": [],
   "source": [
    "import os"
   ]
  },
  {
   "cell_type": "code",
   "execution_count": 31,
   "metadata": {
    "collapsed": true
   },
   "outputs": [],
   "source": [
    "data_loc = \"data/imdb_reviews/\""
   ]
  },
  {
   "cell_type": "code",
   "execution_count": 92,
   "metadata": {
    "collapsed": true
   },
   "outputs": [],
   "source": [
    "def read_txt_files(folder_path):\n",
    "    \"\"\"Reads all .txt files in a folder to a list\"\"\"\n",
    "    \n",
    "    all_reviews = []\n",
    "    file_list = os.listdir(folder_path)\n",
    "    print(file_list[:10])\n",
    "    for file_path in file_list:\n",
    "        f = open(folder_path+file_path,\"r\")\n",
    "        all_reviews.append(f.readline())\n",
    "    return all_reviews"
   ]
  },
  {
   "cell_type": "code",
   "execution_count": 93,
   "metadata": {
    "collapsed": true
   },
   "outputs": [],
   "source": [
    "import numpy as np"
   ]
  },
  {
   "cell_type": "code",
   "execution_count": 94,
   "metadata": {},
   "outputs": [
    {
     "name": "stdout",
     "output_type": "stream",
     "text": [
      "['4715_9.txt', '12390_8.txt', '8329_7.txt', '9063_8.txt', '3092_10.txt', '9865_8.txt', '6639_10.txt', '10460_10.txt', '10331_10.txt', '11606_10.txt']\n"
     ]
    }
   ],
   "source": [
    "train_pos = read_txt_files(folder_path=data_loc+\"train/pos/\")"
   ]
  },
  {
   "cell_type": "code",
   "execution_count": 120,
   "metadata": {
    "scrolled": true
   },
   "outputs": [
    {
     "name": "stdout",
     "output_type": "stream",
     "text": [
      "11487\n"
     ]
    },
    {
     "data": {
      "text/plain": [
       "'I can understand why some people like this movie, and why some people don\\'t. For me, though, I really like it, even if I noticed some good bits, and not so impressive bits. The animation was actually excellent, like Charlie\\'s dream. The characters were a mixed bag, the best being Anne-Marie, voiced by the late Judith Barsi.(I was physically ill when I read what happened to her) Also, Carface is a very convincing villain,especially voiced by the wonderful Vic Tayback(I particularly loved \"Morons I\\'m surrounded by Morons\") and along with Rasputin and Warren T.Rat is probably the most memorable of all the Don Bluth villains. Charlie and Itchy only just lacked the same sparkle, but I loved King Gator and his song. Some of the film is very haunting, like Annabelle\\'s \"You can never come come back\", which kind of scares me still. Unfortunately, there were some bits I didn\\'t like so much. The story had a tendency to become clumsy and unfocused, but Disney\\'s Black Cauldron suffered from the same problem. Also there were some dark scenes, that young children would find upsetting, but the ending is very poignant. However the biggest flaw was the rather bland songs and the way they were sung. None of them in particular stick out, with exception of \"Let\\'s Make Music Together\" and \"Love Survives\", and Burt Reynolds can\\'t sing and Dom DeLuise has done much better singing. All in all, a watchable movie, that could have been more, but is definitely memorable, and I would definitely watch it again. 7/10. Bethany Cox'"
      ]
     },
     "execution_count": 120,
     "metadata": {},
     "output_type": "execute_result"
    }
   ],
   "source": [
    "random_text = np.random.randint(1, high=len(train_pos)-1)\n",
    "print(random_text)\n",
    "train_pos[random_text]"
   ]
  },
  {
   "cell_type": "markdown",
   "metadata": {},
   "source": [
    "Now that we know how to parse and merge all .txt files, we are going to do them for the negatives as well."
   ]
  },
  {
   "cell_type": "code",
   "execution_count": 105,
   "metadata": {},
   "outputs": [
    {
     "name": "stdout",
     "output_type": "stream",
     "text": [
      "['1821_4.txt', '10402_1.txt', '1062_4.txt', '9056_1.txt', '5392_3.txt', '2682_3.txt', '3351_4.txt', '399_2.txt', '10447_1.txt', '10096_1.txt']\n"
     ]
    }
   ],
   "source": [
    "train_neg = read_txt_files(folder_path=data_loc+\"train/neg/\")"
   ]
  },
  {
   "cell_type": "code",
   "execution_count": 106,
   "metadata": {},
   "outputs": [
    {
     "name": "stdout",
     "output_type": "stream",
     "text": [
      "Positive examples = 12500\n",
      "Negative examples = 12500\n"
     ]
    }
   ],
   "source": [
    "print(\"Positive examples = \" + str(len(train_pos)))\n",
    "print(\"Negative examples = \" + str(len(train_neg)))"
   ]
  },
  {
   "cell_type": "markdown",
   "metadata": {},
   "source": [
    "We are going to use the same function later on to load our test data."
   ]
  },
  {
   "cell_type": "markdown",
   "metadata": {},
   "source": [
    "## Data Preparation"
   ]
  },
  {
   "cell_type": "markdown",
   "metadata": {},
   "source": [
    "### Labeling the training dataset"
   ]
  },
  {
   "cell_type": "code",
   "execution_count": 107,
   "metadata": {},
   "outputs": [
    {
     "data": {
      "text/plain": [
       "array([1, 1, 1, ..., 1, 1, 1])"
      ]
     },
     "execution_count": 107,
     "metadata": {},
     "output_type": "execute_result"
    }
   ],
   "source": [
    "np.ones((len(train_pos),), dtype=int)"
   ]
  },
  {
   "cell_type": "code",
   "execution_count": 108,
   "metadata": {},
   "outputs": [
    {
     "data": {
      "text/plain": [
       "array([0, 0, 0, ..., 0, 0, 0])"
      ]
     },
     "execution_count": 108,
     "metadata": {},
     "output_type": "execute_result"
    }
   ],
   "source": [
    "np.zeros((len(train_neg),), dtype=int)"
   ]
  },
  {
   "cell_type": "code",
   "execution_count": null,
   "metadata": {
    "collapsed": true
   },
   "outputs": [],
   "source": []
  },
  {
   "cell_type": "markdown",
   "metadata": {},
   "source": [
    "### Removing HTML tags"
   ]
  },
  {
   "cell_type": "code",
   "execution_count": 121,
   "metadata": {
    "collapsed": true
   },
   "outputs": [],
   "source": [
    "import re\n",
    "\n",
    "def cleanhtml(raw_html):\n",
    "    cleanr = re.compile('<.*?>')\n",
    "    cleantext = re.sub(cleanr, '', raw_html)\n",
    "    return cleantext"
   ]
  },
  {
   "cell_type": "code",
   "execution_count": 122,
   "metadata": {
    "scrolled": true
   },
   "outputs": [
    {
     "data": {
      "text/plain": [
       "'I can understand why some people like this movie, and why some people don\\'t. For me, though, I really like it, even if I noticed some good bits, and not so impressive bits. The animation was actually excellent, like Charlie\\'s dream. The characters were a mixed bag, the best being Anne-Marie, voiced by the late Judith Barsi.(I was physically ill when I read what happened to her) Also, Carface is a very convincing villain,especially voiced by the wonderful Vic Tayback(I particularly loved \"Morons I\\'m surrounded by Morons\") and along with Rasputin and Warren T.Rat is probably the most memorable of all the Don Bluth villains. Charlie and Itchy only just lacked the same sparkle, but I loved King Gator and his song. Some of the film is very haunting, like Annabelle\\'s \"You can never come come back\", which kind of scares me still. Unfortunately, there were some bits I didn\\'t like so much. The story had a tendency to become clumsy and unfocused, but Disney\\'s Black Cauldron suffered from the same problem. Also there were some dark scenes, that young children would find upsetting, but the ending is very poignant. However the biggest flaw was the rather bland songs and the way they were sung. None of them in particular stick out, with exception of \"Let\\'s Make Music Together\" and \"Love Survives\", and Burt Reynolds can\\'t sing and Dom DeLuise has done much better singing. All in all, a watchable movie, that could have been more, but is definitely memorable, and I would definitely watch it again. 7/10. Bethany Cox'"
      ]
     },
     "execution_count": 122,
     "metadata": {},
     "output_type": "execute_result"
    }
   ],
   "source": [
    "train_pos[random_text]"
   ]
  },
  {
   "cell_type": "code",
   "execution_count": 123,
   "metadata": {
    "collapsed": true
   },
   "outputs": [],
   "source": [
    "train_pos_clean = [cleanhtml(x) for x in train_pos]\n",
    "train_neg_clean = [cleanhtml(x) for x in train_neg]"
   ]
  },
  {
   "cell_type": "code",
   "execution_count": 124,
   "metadata": {
    "scrolled": true
   },
   "outputs": [
    {
     "data": {
      "text/plain": [
       "'I can understand why some people like this movie, and why some people don\\'t. For me, though, I really like it, even if I noticed some good bits, and not so impressive bits. The animation was actually excellent, like Charlie\\'s dream. The characters were a mixed bag, the best being Anne-Marie, voiced by the late Judith Barsi.(I was physically ill when I read what happened to her) Also, Carface is a very convincing villain,especially voiced by the wonderful Vic Tayback(I particularly loved \"Morons I\\'m surrounded by Morons\") and along with Rasputin and Warren T.Rat is probably the most memorable of all the Don Bluth villains. Charlie and Itchy only just lacked the same sparkle, but I loved King Gator and his song. Some of the film is very haunting, like Annabelle\\'s \"You can never come come back\", which kind of scares me still. Unfortunately, there were some bits I didn\\'t like so much. The story had a tendency to become clumsy and unfocused, but Disney\\'s Black Cauldron suffered from the same problem. Also there were some dark scenes, that young children would find upsetting, but the ending is very poignant. However the biggest flaw was the rather bland songs and the way they were sung. None of them in particular stick out, with exception of \"Let\\'s Make Music Together\" and \"Love Survives\", and Burt Reynolds can\\'t sing and Dom DeLuise has done much better singing. All in all, a watchable movie, that could have been more, but is definitely memorable, and I would definitely watch it again. 7/10. Bethany Cox'"
      ]
     },
     "execution_count": 124,
     "metadata": {},
     "output_type": "execute_result"
    }
   ],
   "source": [
    "train_pos_clean[random_text]"
   ]
  },
  {
   "cell_type": "markdown",
   "metadata": {},
   "source": [
    "### Replacing dots & question marks & paranthesis with space"
   ]
  },
  {
   "cell_type": "code",
   "execution_count": 127,
   "metadata": {},
   "outputs": [
    {
     "data": {
      "text/plain": [
       "'asdasdasds asdasda'"
      ]
     },
     "execution_count": 127,
     "metadata": {},
     "output_type": "execute_result"
    }
   ],
   "source": [
    "\"asdasdasds.asdasda\".replace(\".\",\" \")"
   ]
  },
  {
   "cell_type": "code",
   "execution_count": 137,
   "metadata": {
    "collapsed": true
   },
   "outputs": [],
   "source": [
    "def remove_dqmp(review):\n",
    "    \n",
    "    review = review.replace(\".\",\" \")\n",
    "    review = review.replace(\"?\",\" \")\n",
    "    review = review.replace(\")\",\" \")\n",
    "    review = review.replace(\"(\",\" \")\n",
    "    \n",
    "    return review"
   ]
  },
  {
   "cell_type": "code",
   "execution_count": 138,
   "metadata": {
    "scrolled": true
   },
   "outputs": [
    {
     "data": {
      "text/plain": [
       "'Streisand fans only familiar with her work from the FUNNY GIRL film onwards need to see this show to see what a brilliant performer Streisand WAS - BEFORE she achieved her goal of becoming a Movie Star  There had never been a female singer quite like her ever before, and there never would be again  sorry, Celine - only in your dreams! , but never again would Streisand sing with the vibrancy, energy, and, above all, the ENTHUSIASM and VULNERABILITY with which she performs here - by the time she gets to that Central Park concert only 2 or 3 years later, she\\'d been filming FUNNY GIRL in Hollywood and her performing style has become less spontaneous and more reserved, more rehearsed  and, let\\'s face it: more angry  - there\\'s a wall between her and the audience  Live performing was never what she really enjoyed - she did it because she knew it was her ticket to Hollywood, and once she no longer had to do it she\\'s done it as little as possible  and oh, that legendary stage fright provides such a good excuse!  Her vocals here and on her earlier Judy Garland Show appearance are incredible: Streisand could truly make an old song sound new again, and composers such as Richard Rodgers and Harold Arlen loved her for it  But by the 1970s Streisand was trying to be a \"rock\" singer, her albums pandering to the younger audiences, with over-wrought shrieking of songs that were unworthy of her effort or her voice  In the \\'80s she came back with that brilliant \"Broadway Album,\" but went on and on about what a struggle it was to get it done, how \"they\" told her not to do it, etc  Oh please - when has anyone told Streisand what to do  She could have been doing good stuff like that all along, bringing audiences UP to her level instead of stooping to what she thought the young public wanted   The \"Back to Broadway\" sequel wasn\\'t nearly as good, as Streisand seems to feel it necessary to improve on other composers\\' work: if he were alive at the time, would Richard Rodgers have even recognized his own \"Some Enchanted Evening\"  Rodgers, notorious for taking singers to task for playing around with his melodies, would undoubtedly have been after Streisand to sing what he\\'d written! She also blows Michael Crawford off the CD in their duet of \"Music of the Night\" - apparently reminding him just whose CD this is  Why does she insist on taking songs that are duets and singing them by herself, and songs that aren\\'t duets and singing them as duets with someone else who she then goes on to diminish  Supposedly Judy Garland took Streisand aside and advised her, \"Don\\'t let them do to you what they did to me,\" advice Streisand wasted no time in heeding - despite her protestations to the contrary, surely it looks like it\\'s always been her way or the highway  Just imagine - SHE told the CBS brass how her first TV special would be done - no guests, just HER But nobody can argue with the results that are so evident here  Treat yourself to this brilliant musical phenomenon BEFORE she was a legend - you\\'ll be absolutely amazed at the difference!PS - I watched this again last night  12/01  after not having seen it for many years - it was even BETTER than I remembered! The 1st Act begins with \"I\\'m Late\" and includes \"Make Believe\" and \"How Does the Wine Taste,\" and Barbra\\'s homage to childhood, \"I\\'m Five\" - it climaxes as Streisand appears with full  and I mean FULL  orchestra to sing \"People\" - she wasn\\'t bored with the song yet and although it\\'s a somewhat shorter rendition it really soars - compare it to some of her later \"auto-pilot\" versions  The 2nd act  after Streisand\\'s \"kooky\" schtick-patter, which hasn\\'t changed much over the years  is the famous series of Depression songs set amidst the extravagance of Bergdorf-Goodman\\'s The 3rd Act is the stunner - call it \"Streisand, the Orchestra, and the Audience\"  although we never see the audience that supposedly witness this historic event   With her fear of audiences and dislike of such performing, this may have been the toughest part for her, but if so, to her credit it doesn\\'t show  She tears through \"Lover Come Back to Me\" and the torchy \"When the Sun Comes Out\"  though I can\\'t remember in which order! , the poignant \"Why Did I Choose You   one of my all-time favorite Streisand performances  and offers a medley of FUNNY GIRL songs, including  of course  \"Don\\'t Rain on My Parade\" and my favorite song from the score, \"The Music That Makes Me Dance\"  Explaining that \"Fanny Brice sang a song like that in 1922, and it made her the toast of Broadway\", Streisand then sings \"My Man\", and it\\'s almost a dress-rehearsal template for her later screen rendition in the FUNNY GIRL film  the main difference being that the black gown here is sleeveless - her film gown had long sleeves and against the black background all we saw were her hands and face , but the vocal here is more urgent and charged than her later film vocal   Her performance of the song has everything to do with Streisand and nothing to do with Fanny Brice who, of course, never sang the song in such an all-out manner as Streisand does here or in the film - see THE GREAT ZIEGFIELD for a glimpse of Brice\\'s more understated version   The show ends with Streisand singing \"Happy Days Are Here Again\" over the credits When it was over I said to the friend I was watching it with, \"She has NEVER, EVER, done anything better!\"And she was TWENTY-THREE YEARS OLD!'"
      ]
     },
     "execution_count": 138,
     "metadata": {},
     "output_type": "execute_result"
    }
   ],
   "source": [
    "remove_dqmp(train_pos_clean[random_text])"
   ]
  },
  {
   "cell_type": "code",
   "execution_count": 139,
   "metadata": {
    "collapsed": true
   },
   "outputs": [],
   "source": [
    "train_pos_clean = [remove_dqmp(x) for x in train_pos_clean]\n",
    "train_neg_clean = [remove_dqmp(x) for x in train_neg_clean]"
   ]
  },
  {
   "cell_type": "markdown",
   "metadata": {},
   "source": [
    "## Tokenization"
   ]
  },
  {
   "cell_type": "code",
   "execution_count": 140,
   "metadata": {},
   "outputs": [],
   "source": [
    "import spacy\n",
    "import string\n",
    "\n",
    "# Load English tokenizer, tagger, parser, NER and word vectors\n",
    "tokenizer = spacy.load('en_core_web_sm')\n",
    "punctuations = string.punctuation\n",
    "\n",
    "# lowercase and remove punctuation\n",
    "def tokenize(sent):\n",
    "    tokens = tokenizer(sent)\n",
    "    return [token.text.lower() for token in tokens if (token.text not in punctuations)]\n",
    "    #return [token.text.lower() for token in tokens]"
   ]
  },
  {
   "cell_type": "code",
   "execution_count": 141,
   "metadata": {},
   "outputs": [
    {
     "name": "stdout",
     "output_type": "stream",
     "text": [
      "3090\n"
     ]
    }
   ],
   "source": [
    "random_text = np.random.randint(1, high=len(train_pos)-1)\n",
    "print(random_text)"
   ]
  },
  {
   "cell_type": "code",
   "execution_count": 142,
   "metadata": {
    "scrolled": true
   },
   "outputs": [
    {
     "name": "stdout",
     "output_type": "stream",
     "text": [
      "['the', 'year', '1995', 'when', 'so', 'many', 'people', 'talked', 'about', 'the', 'great', 'premiere', 'of', 'braveheart', 'by', 'mel', 'gibson', 'also', 'saw', 'another', 'very', 'fine', 'yet', 'underrated', 'movie', 'on', 'scottish', 'history', 'rob', 'roy', ' ', 'although', 'it', 'is', 'a', 'very', 'different', 'film', 'especially', 'due', 'to', 'the', 'historical', 'period', 'the', 'story', 'is', 'set', 'in', 'rob', 'roy', 'has', 'much', 'in', 'common', 'not', 'only', 'with', 'marvelous', 'braveheart', 'but', 'also', 'with', 'the', 'very', 'spirit', 'of', 'epic', 'movies', 'it', 'is', 'a', 'film', 'that', 'discusses', 'similar', 'themes', 'like', 'fight', 'for', 'dignity', 'courage', 'honor', 'revenge', 'family', 'being', 'a', 'key', 'to', 'happiness', ' ', 'it', 'also', 'leads', 'us', 'to', 'the', 'very', 'bliss', 'of', 'scottish', 'highlands', 'where', 'the', 'human', 'soul', 'finds', 'its', 'rest', 'being', 'surrounded', 'by', 'all', 'grandeur', 'of', 'nature', ' ', 'robert', 'roy', 'macgregor', ' ', 'liam', 'neeson', 'the', 'main', 'character', 'is', 'a', 'true', 'hero', ' ', 'so', 'universal', 'in', 'epics', 'sort', 'of', 'scottish', 'robin', 'hood', 'who', 'struggles', 'to', 'lead', 'his', 'people', 'out', 'of', 'oppression', 'imposed', 'by', 'cold', 'hearted', 'lords', ' ', 'although', 'he', 'worsens', 'his', 'situation', 'through', 'the', 'acts', 'has', 'to', 'suffer', 'a', 'lot', 'two', 'things', 'stay', 'in', 'his', 'mind', 'undeniably', 'honor', 'that', 'he', 'is', 'given', 'by', 'himself', 'and', 'love', 'to', 'his', 'woman', 'mary', 'macgregor', ' ', 'jessica', 'lange', '  ', 'that', 'leads', 'him', 'to', 'unexpected', 'events', '  ', 'except', 'for', 'the', 'interesting', 'content', 'and', 'quite', 'vivid', 'action', 'the', 'movie', 'is', 'filled', 'with', 'truly', 'stunning', 'visuals', ' ', 'this', 'factor', 'has', 'to', 'do', 'both', 'with', 'the', 'sets', 'and', 'locations', 'of', 'the', 'film', 'as', 'well', 'as', 'the', 'wardrobe', ' ', 'many', 'memorable', 'moments', 'stay', 'in', 'the', 'mind', 'of', 'any', 'viewer', 'who', 'can', 'allow', 'themselves', 'an', 'insight', 'into', 'artistic', 'images', ' ', 'for', 'me', 'the', 'most', 'splendid', 'scene', 'was', 'in', 'the', 'highlands', 'when', 'rob', 'roy', 'tells', 'his', 'boys', 'what', 'honor', 'really', 'means', ' ', 'then', 'he', 'sends', 'them', 'away', 'and', 'beautifully', 'makes', 'love', 'to', 'his', 'woman', ' ', 'the', 'scene', 'he', 'escapes', 'marguis', 'of', 'montrose', ' ', 'john', 'hurt', ' ', 'to', 'the', 'waterfall', 'is', 'also', 'worth', 'a', 'look', 'as', 'a', 'stunning', 'visual', ' ', 'of', 'course', 'there', 'is', 'some', 'graphic', 'violence', 'like', 'in', 'the', 'duel', 'for', 'instance', 'but', 'i', 'do', \"n't\", 'think', 'that', 'this', 'violence', 'would', 'be', 'as', 'harmful', 'as', 'in', 'many', 'other', 'modern', 'films', ' ', 'its', 'justification', 'is', 'like', 'any', 'other', 'epic', \"'s\", 'bloodshed', 'and', 'cruelty', 'of', 'those', 'times', 'were', 'really', 'serious', 'and', 'there', 'would', 'be', 'no', 'point', 'in', 'hiding', 'it', ' ', 'the', 'most', 'disturbing', 'scene', 'for', 'me', 'was', 'the', 'rape', 'done', 'on', 'rob', 'roy', \"'s\", 'wife', 'by', 'the', 'villain', 'of', 'the', 'story', 'archibald', 'cunningham', ' ', 'tim', 'roth', '  ', 'it', \"'s\", 'truly', 'disgusting', 'and', 'kids', 'should', 'definitely', 'stay', 'away', ' ', 'however', 'all', 'the', 'rest', 'is', 'o', 'k', ' ', 'yet', 'there', 'is', 'one', 'aspect', 'that', 'made', 'me', 'really', 'love', 'this', 'movie', 'the', 'performances', 'all', 'the', 'cast', 'do', 'perfect', 'jobs', 'from', 'the', 'leading', 'lian', 'neeson', 'who', 'fits', 'very', 'well', 'to', 'the', 'role', 'of', 'tall', 'brave', 'strong', 'scottish', 'man', 'to', 'the', 'supporting', 'cast', 'of', 'brian', 'cox', 'who', 'portrays', 'wicked', 'killearn', 'a', 'silent', 'witness', 'of', 'terrible', 'acts', 'who', 'feels', 'comfortable', 'with', 'the', 'evil', 'of', 'war', ' ', 'jessica', 'lange', 'is', 'very', 'fine', 'as', 'mary', 'macgregor', 'and', 'has', 'some', 'of', 'the', 'most', 'beautiful', 'moments', 'in', 'the', 'film', ' ', 'there', 'is', 'chemistry', 'between', 'ms', 'lange', 'and', 'mr', 'neeson', 'in', 'many', 'of', 'their', 'scenes', ' ', 'john', 'hurt', 'one', 'of', 'the', 'best', 'british', 'actors', 'does', 'a', 'terrific', 'job', 'as', 'marguis', 'of', 'montrose', 'a', 'corrupted', 'man', 'for', 'whom', 'money', 'is', 'the', 'aim', 'in', 'itself', 'achieved', 'by', 'any', 'means', ' ', 'i', 'like', 'that', 'calmness', 'of', 'his', 'portrayal', ' ', 'but', 'the', 'real', 'villain', 'is', 'played', 'by', 'tim', 'roth', 'who', 'truly', 'depicts', 'wretched', 'side', 'of', 'his', 'character', 'archibald', 'a', 'man', 'who', 'mocks', 'love', 'who', 'loves', 'war', 'and', 'who', 'finds', 'true', 'lust', 'in', 'rape', 'and', 'slaughter', ' ', 'but', 'like', 'in', 'any', 'good', 'epic', 'this', 'exceptional', 'evil', 'must', 'find', 'its', 'end', '  ', 'and', 'one', 'more', 'aspect', 'the', 'musical', 'score', 'such', 'memorable', 'and', 'sentimental', 'tunes', 'that', 'are', 'bound', 'to', 'sound', 'in', 'the', 'ears', 'for', 'long', ' ', 'the', 'final', 'moment', 'touched', 'me', 'to', 'tears', 'not', 'only', 'because', 'of', 'the', 'beauty', 'it', 'conveys', 'but', 'because', 'i', 'deeply', 'combined', 'these', 'blissful', 'tunes', 'with', 'the', 'grandeur', 'of', 'locations', ' ', 'scotland', 'remains', 'in', 'the', 'heart', 'of', 'its', 'visitor', 'and', 'this', 'movie', 'reminded', 'me', 'of', 'that', 'permanent', 'effect', ' ', 'it', 'was', 'as', 'if', 'my', 'second', 'journey', 'to', 'scotland', 'rob', 'roy', 'is', 'a', 'very', 'nice', 'movie', 'very', 'well', 'directed', 'photographed', 'and', 'acted', ' ', 'it', 'perhaps', 'does', 'not', 'equal', 'braveheart', 'with', 'its', 'spectacular', 'sets', 'and', 'crowds', 'of', 'extras', 'in', 'battle', 'scenes', 'but', 'it', 'is', 'a', 'fairly', 'long', 'film', 'with', 'much', 'attention', 'placed', 'on', 'one', 'very', 'significant', 'feature', 'a', 'cinema', 'should', 'have', 'stunning', 'entertainment', 'combined', 'with', 'heartfelt', 'education', ' ', 'i', 'really', 'enjoyed', 'that', 'film', 'do', 'not', 'hesitate', 'to', 'call', 'it', 'metaphorically', 'highlands', 'of', 'entertainment', 'and', 'rate', 'it', '9/10']\n"
     ]
    }
   ],
   "source": [
    "# Example\n",
    "tokens = tokenize(train_pos_clean[random_text])\n",
    "print(tokens)"
   ]
  },
  {
   "cell_type": "markdown",
   "metadata": {},
   "source": [
    "### Remove blank space tokens"
   ]
  },
  {
   "cell_type": "code",
   "execution_count": null,
   "metadata": {
    "collapsed": true
   },
   "outputs": [],
   "source": []
  }
 ],
 "metadata": {
  "kernelspec": {
   "display_name": "Python 3",
   "language": "python",
   "name": "python3"
  },
  "language_info": {
   "codemirror_mode": {
    "name": "ipython",
    "version": 3
   },
   "file_extension": ".py",
   "mimetype": "text/x-python",
   "name": "python",
   "nbconvert_exporter": "python",
   "pygments_lexer": "ipython3",
   "version": "3.6.1"
  }
 },
 "nbformat": 4,
 "nbformat_minor": 2
}
