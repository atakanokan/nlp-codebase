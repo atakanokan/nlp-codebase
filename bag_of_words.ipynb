{
 "cells": [
  {
   "cell_type": "markdown",
   "metadata": {},
   "source": [
    "import modules"
   ]
  },
  {
   "cell_type": "code",
   "execution_count": 1,
   "metadata": {},
   "outputs": [
    {
     "name": "stderr",
     "output_type": "stream",
     "text": [
      "/Users/atakanokan/anaconda/lib/python3.6/importlib/_bootstrap.py:205: RuntimeWarning: compiletime version 3.5 of module 'tensorflow.python.framework.fast_tensor_util' does not match runtime version 3.6\n",
      "  return f(*args, **kwds)\n"
     ]
    }
   ],
   "source": [
    "import tensorflow as tf\n",
    "import matplotlib.pyplot as plt\n",
    "import os\n",
    "import numpy as np\n",
    "import csv\n",
    "import string\n",
    "import requests\n",
    "import io\n",
    "from zipfile import ZipFile\n",
    "from tensorflow.contrib import learn\n",
    "from tensorflow.python.framework import ops\n",
    "ops.reset_default_graph()"
   ]
  },
  {
   "cell_type": "markdown",
   "metadata": {},
   "source": [
    "start a computation graph session"
   ]
  },
  {
   "cell_type": "code",
   "execution_count": 2,
   "metadata": {
    "collapsed": true
   },
   "outputs": [],
   "source": [
    "# Start a graph session\n",
    "sess = tf.Session()"
   ]
  },
  {
   "cell_type": "markdown",
   "metadata": {},
   "source": [
    "Check if data was downloaded, otherwise download it and save for future use"
   ]
  },
  {
   "cell_type": "code",
   "execution_count": 3,
   "metadata": {
    "collapsed": true
   },
   "outputs": [],
   "source": [
    "save_file_name = os.path.join('temp','temp_spam_data.csv')\n",
    "\n",
    "# Create directory if it doesn't exist\n",
    "if not os.path.exists('temp'):\n",
    "    os.makedirs('temp')\n",
    "\n",
    "if os.path.isfile(save_file_name):\n",
    "    text_data = []\n",
    "    with open(save_file_name, 'r') as temp_output_file:\n",
    "        reader = csv.reader(temp_output_file)\n",
    "        for row in reader:\n",
    "            text_data.append(row)\n",
    "else:\n",
    "    zip_url = 'http://archive.ics.uci.edu/ml/machine-learning-databases/00228/smsspamcollection.zip'\n",
    "    r = requests.get(zip_url)\n",
    "    z = ZipFile(io.BytesIO(r.content))\n",
    "    file = z.read('SMSSpamCollection')\n",
    "    # Format Data\n",
    "    text_data = file.decode()\n",
    "    text_data = text_data.encode('ascii',errors='ignore')\n",
    "    text_data = text_data.decode().split('\\n')\n",
    "    text_data = [x.split('\\t') for x in text_data if len(x)>=1]\n",
    "    \n",
    "    # And write to csv\n",
    "    with open(save_file_name, 'w') as temp_output_file:\n",
    "        writer = csv.writer(temp_output_file)\n",
    "        writer.writerows(text_data)\n",
    "\n",
    "texts = [x[1] for x in text_data]\n",
    "target = [x[0] for x in text_data]"
   ]
  },
  {
   "cell_type": "markdown",
   "metadata": {},
   "source": [
    "To reduce the potential vocabulary size, we normalize the text. To do this, we remove the influence of capitalization and numbers in the text."
   ]
  },
  {
   "cell_type": "code",
   "execution_count": 4,
   "metadata": {
    "collapsed": true
   },
   "outputs": [],
   "source": [
    "# Relabel 'spam' as 1, 'ham' as 0\n",
    "target = [1 if x=='spam' else 0 for x in target]\n",
    "\n",
    "# Normalize text\n",
    "# Lower case\n",
    "texts = [x.lower() for x in texts]\n",
    "\n",
    "# Remove punctuation\n",
    "texts = [''.join(c for c in x if c not in string.punctuation) for x in texts]\n",
    "\n",
    "# Remove numbers\n",
    "texts = [''.join(c for c in x if c not in '0123456789') for x in texts]\n",
    "\n",
    "# Trim extra whitespace\n",
    "texts = [' '.join(x.split()) for x in texts]"
   ]
  },
  {
   "cell_type": "markdown",
   "metadata": {},
   "source": [
    "To determine a good sentence length to pad/crop at, we plot a histogram of text lengths (in words)."
   ]
  },
  {
   "cell_type": "code",
   "execution_count": 9,
   "metadata": {},
   "outputs": [
    {
     "data": {
      "image/png": "[encoded data removed]",
      "text/plain": [
       "<matplotlib.figure.Figure at 0x1204cef98>"
      ]
     },
     "metadata": {},
     "output_type": "display_data"
    }
   ],
   "source": [
    "%matplotlib inline\n",
    "# Plot histogram of text lengths\n",
    "text_lengths = [len(x.split()) for x in texts]\n",
    "text_lengths = [x for x in text_lengths if x < 50]\n",
    "plt.hist(text_lengths, bins=25)\n",
    "plt.title('Histogram of # of Words in Texts')\n",
    "plt.show()"
   ]
  },
  {
   "cell_type": "markdown",
   "metadata": {},
   "source": [
    "We crop/pad all texts to be 25 words long. We also will filter out any words that do not appear at least 3 times."
   ]
  },
  {
   "cell_type": "code",
   "execution_count": 10,
   "metadata": {
    "collapsed": true
   },
   "outputs": [],
   "source": [
    "# Choose max text word length at 25\n",
    "sentence_size = 25\n",
    "min_word_freq = 3"
   ]
  },
  {
   "cell_type": "markdown",
   "metadata": {},
   "source": [
    "TensorFlow has a built in text processing function called VocabularyProcessor(). We use this function to process the texts."
   ]
  },
  {
   "cell_type": "code",
   "execution_count": 11,
   "metadata": {
    "scrolled": true
   },
   "outputs": [
    {
     "name": "stdout",
     "output_type": "stream",
     "text": [
      "WARNING:tensorflow:From <ipython-input-11-17f2a5f5ce7e>:2: VocabularyProcessor.__init__ (from tensorflow.contrib.learn.python.learn.preprocessing.text) is deprecated and will be removed in a future version.\n",
      "Instructions for updating:\n",
      "Please use tensorflow/transform or tf.data.\n"
     ]
    },
    {
     "name": "stderr",
     "output_type": "stream",
     "text": [
      "WARNING:tensorflow:From <ipython-input-11-17f2a5f5ce7e>:2: VocabularyProcessor.__init__ (from tensorflow.contrib.learn.python.learn.preprocessing.text) is deprecated and will be removed in a future version.\n",
      "Instructions for updating:\n",
      "Please use tensorflow/transform or tf.data.\n"
     ]
    },
    {
     "name": "stdout",
     "output_type": "stream",
     "text": [
      "WARNING:tensorflow:From /Users/atakanokan/anaconda/lib/python3.6/site-packages/tensorflow/contrib/learn/python/learn/preprocessing/text.py:154: CategoricalVocabulary.__init__ (from tensorflow.contrib.learn.python.learn.preprocessing.categorical_vocabulary) is deprecated and will be removed in a future version.\n",
      "Instructions for updating:\n",
      "Please use tensorflow/transform or tf.data.\n"
     ]
    },
    {
     "name": "stderr",
     "output_type": "stream",
     "text": [
      "WARNING:tensorflow:From /Users/atakanokan/anaconda/lib/python3.6/site-packages/tensorflow/contrib/learn/python/learn/preprocessing/text.py:154: CategoricalVocabulary.__init__ (from tensorflow.contrib.learn.python.learn.preprocessing.categorical_vocabulary) is deprecated and will be removed in a future version.\n",
      "Instructions for updating:\n",
      "Please use tensorflow/transform or tf.data.\n"
     ]
    },
    {
     "name": "stdout",
     "output_type": "stream",
     "text": [
      "WARNING:tensorflow:From /Users/atakanokan/anaconda/lib/python3.6/site-packages/tensorflow/contrib/learn/python/learn/preprocessing/text.py:203: tokenizer (from tensorflow.contrib.learn.python.learn.preprocessing.text) is deprecated and will be removed in a future version.\n",
      "Instructions for updating:\n",
      "Please use tensorflow/transform or tf.data.\n"
     ]
    },
    {
     "name": "stderr",
     "output_type": "stream",
     "text": [
      "WARNING:tensorflow:From /Users/atakanokan/anaconda/lib/python3.6/site-packages/tensorflow/contrib/learn/python/learn/preprocessing/text.py:203: tokenizer (from tensorflow.contrib.learn.python.learn.preprocessing.text) is deprecated and will be removed in a future version.\n",
      "Instructions for updating:\n",
      "Please use tensorflow/transform or tf.data.\n"
     ]
    }
   ],
   "source": [
    "# Setup vocabulary processor\n",
    "vocab_processor = learn.preprocessing.VocabularyProcessor(sentence_size, min_frequency=min_word_freq)\n",
    "\n",
    "# Have to fit transform to get length of unique words.\n",
    "vocab_processor.transform(texts)\n",
    "transformed_texts = np.array([x for x in vocab_processor.transform(texts)])\n",
    "embedding_size = len(np.unique(transformed_texts))"
   ]
  },
  {
   "cell_type": "markdown",
   "metadata": {},
   "source": [
    "To test our logistic model (predicting spam/ham), we split the texts into a train and test set."
   ]
  },
  {
   "cell_type": "code",
   "execution_count": 12,
   "metadata": {
    "collapsed": true
   },
   "outputs": [],
   "source": [
    "# Split up data set into train/test\n",
    "train_indices = np.random.choice(len(texts), round(len(texts)*0.8), replace=False)\n",
    "test_indices = np.array(list(set(range(len(texts))) - set(train_indices)))\n",
    "texts_train = [x for ix, x in enumerate(texts) if ix in train_indices]\n",
    "texts_test = [x for ix, x in enumerate(texts) if ix in test_indices]\n",
    "target_train = [x for ix, x in enumerate(target) if ix in train_indices]\n",
    "target_test = [x for ix, x in enumerate(target) if ix in test_indices]"
   ]
  },
  {
   "cell_type": "markdown",
   "metadata": {},
   "source": [
    "For one-hot-encoding, we setup an identity matrix for the TensorFlow embedding lookup.\n",
    "\n",
    "We also create the variables and placeholders for the logistic regression we will perform."
   ]
  },
  {
   "cell_type": "code",
   "execution_count": 13,
   "metadata": {
    "collapsed": true
   },
   "outputs": [],
   "source": [
    "# Setup Index Matrix for one-hot-encoding\n",
    "identity_mat = tf.diag(tf.ones(shape=[embedding_size]))\n",
    "\n",
    "# Create variables for logistic regression\n",
    "A = tf.Variable(tf.random_normal(shape=[embedding_size,1]))\n",
    "b = tf.Variable(tf.random_normal(shape=[1,1]))\n",
    "\n",
    "# Initialize placeholders\n",
    "x_data = tf.placeholder(shape=[sentence_size], dtype=tf.int32)\n",
    "y_target = tf.placeholder(shape=[1, 1], dtype=tf.float32)"
   ]
  },
  {
   "cell_type": "markdown",
   "metadata": {},
   "source": [
    "Next, we create the text-word embedding lookup with the prior identity matrix.\n",
    "\n",
    "Our logistic regression will use the counts of the words as the input. The counts are created by summing the embedding output across the rows.\n",
    "\n",
    "Then we declare the logistic regression operations. Note that we do not wrap the logistic operations in the sigmoid function because this will be done in the loss function later on."
   ]
  },
  {
   "cell_type": "code",
   "execution_count": 14,
   "metadata": {
    "collapsed": true
   },
   "outputs": [],
   "source": [
    "# Text-Vocab Embedding\n",
    "x_embed = tf.nn.embedding_lookup(identity_mat, x_data)\n",
    "x_col_sums = tf.reduce_sum(x_embed, 0)\n",
    "\n",
    "# Declare model operations\n",
    "x_col_sums_2D = tf.expand_dims(x_col_sums, 0)\n",
    "model_output = tf.add(tf.matmul(x_col_sums_2D, A), b)"
   ]
  },
  {
   "cell_type": "markdown",
   "metadata": {},
   "source": [
    "Now we declare our loss function (which has the sigmoid built in), prediction operations, optimizer, and initialize the variables."
   ]
  },
  {
   "cell_type": "code",
   "execution_count": 15,
   "metadata": {
    "collapsed": true
   },
   "outputs": [],
   "source": [
    "# Declare loss function (Cross Entropy loss)\n",
    "loss = tf.reduce_mean(tf.nn.sigmoid_cross_entropy_with_logits(logits=model_output, labels=y_target))\n",
    "\n",
    "# Prediction operation\n",
    "prediction = tf.sigmoid(model_output)\n",
    "\n",
    "# Declare optimizer\n",
    "my_opt = tf.train.GradientDescentOptimizer(0.001)\n",
    "train_step = my_opt.minimize(loss)\n",
    "\n",
    "# Intitialize Variables\n",
    "init = tf.global_variables_initializer()\n",
    "sess.run(init)"
   ]
  },
  {
   "cell_type": "markdown",
   "metadata": {},
   "source": [
    "Now we loop through the iterations and fit the logistic regression on wether or not the text is spam or ham."
   ]
  },
  {
   "cell_type": "code",
   "execution_count": 16,
   "metadata": {
    "scrolled": true
   },
   "outputs": [
    {
     "name": "stdout",
     "output_type": "stream",
     "text": [
      "Starting Training Over 4459 Sentences.\n",
      "Training Observation #10: Loss = 2.2550027\n",
      "Training Observation #20: Loss = 0.01644477\n",
      "Training Observation #30: Loss = 0.46738636\n",
      "Training Observation #40: Loss = 0.2508839\n",
      "Training Observation #50: Loss = 0.039120324\n",
      "Training Observation #60: Loss = 0.25523725\n",
      "Training Observation #70: Loss = 0.42048928\n",
      "Training Observation #80: Loss = 0.00090670114\n",
      "Training Observation #90: Loss = 0.0029919338\n",
      "Training Observation #100: Loss = 0.021491338\n",
      "Training Observation #110: Loss = 0.011196385\n",
      "Training Observation #120: Loss = 0.008090788\n",
      "Training Observation #130: Loss = 0.043880336\n",
      "Training Observation #140: Loss = 0.007570286\n",
      "Training Observation #150: Loss = 0.0010308262\n",
      "Training Observation #160: Loss = 0.012622298\n",
      "Training Observation #170: Loss = 0.006370655\n",
      "Training Observation #180: Loss = 0.0037109894\n",
      "Training Observation #190: Loss = 0.025819646\n",
      "Training Observation #200: Loss = 0.2708278\n",
      "Training Observation #210: Loss = 0.0058802553\n",
      "Training Observation #220: Loss = 3.043666\n",
      "Training Observation #230: Loss = 0.06446792\n",
      "Training Observation #240: Loss = 0.00648922\n",
      "Training Observation #250: Loss = 0.021023376\n",
      "Training Observation #260: Loss = 0.03992156\n",
      "Training Observation #270: Loss = 0.0019437518\n",
      "Training Observation #280: Loss = 0.14398387\n",
      "Training Observation #290: Loss = 0.0005908365\n",
      "Training Observation #300: Loss = 0.57884973\n",
      "Training Observation #310: Loss = 3.1894727\n",
      "Training Observation #320: Loss = 0.00018135464\n",
      "Training Observation #330: Loss = 0.0006342096\n",
      "Training Observation #340: Loss = 0.06540169\n",
      "Training Observation #350: Loss = 0.00088193995\n",
      "Training Observation #360: Loss = 0.0013644779\n",
      "Training Observation #370: Loss = 0.0020510654\n",
      "Training Observation #380: Loss = 1.0024588e-05\n",
      "Training Observation #390: Loss = 0.027950555\n",
      "Training Observation #400: Loss = 0.003554744\n",
      "Training Observation #410: Loss = 0.26524892\n",
      "Training Observation #420: Loss = 0.0016344535\n",
      "Training Observation #430: Loss = 0.044534918\n",
      "Training Observation #440: Loss = 0.021654304\n",
      "Training Observation #450: Loss = 0.00046790592\n",
      "Training Observation #460: Loss = 0.008150137\n",
      "Training Observation #470: Loss = 0.6211891\n",
      "Training Observation #480: Loss = 1.1801418\n",
      "Training Observation #490: Loss = 3.6568046\n",
      "Training Observation #500: Loss = 0.020044416\n",
      "Training Observation #510: Loss = 3.109392e-06\n",
      "Training Observation #520: Loss = 0.021901384\n",
      "Training Observation #530: Loss = 3.450441\n",
      "Training Observation #540: Loss = 0.0022823147\n",
      "Training Observation #550: Loss = 0.045670398\n",
      "Training Observation #560: Loss = 1.504441\n",
      "Training Observation #570: Loss = 3.1721005\n",
      "Training Observation #580: Loss = 0.61650586\n",
      "Training Observation #590: Loss = 0.018497212\n",
      "Training Observation #600: Loss = 0.029260278\n",
      "Training Observation #610: Loss = 0.0024740845\n",
      "Training Observation #620: Loss = 1.1732424e-06\n",
      "Training Observation #630: Loss = 1.189227\n",
      "Training Observation #640: Loss = 0.41942105\n",
      "Training Observation #650: Loss = 0.28790915\n",
      "Training Observation #660: Loss = 2.9674308\n",
      "Training Observation #670: Loss = 0.0002646861\n",
      "Training Observation #680: Loss = 7.668337\n",
      "Training Observation #690: Loss = 1.8171021\n",
      "Training Observation #700: Loss = 0.39651155\n",
      "Training Observation #710: Loss = 5.70032\n",
      "Training Observation #720: Loss = 0.14709875\n",
      "Training Observation #730: Loss = 0.015579568\n",
      "Training Observation #740: Loss = 1.794082\n",
      "Training Observation #750: Loss = 5.223902\n",
      "Training Observation #760: Loss = 0.21813881\n",
      "Training Observation #770: Loss = 0.10725599\n",
      "Training Observation #780: Loss = 0.010711971\n",
      "Training Observation #790: Loss = 0.25144577\n",
      "Training Observation #800: Loss = 0.082592025\n",
      "Training Observation #810: Loss = 0.00073743943\n",
      "Training Observation #820: Loss = 0.08833034\n",
      "Training Observation #830: Loss = 0.00090504193\n",
      "Training Observation #840: Loss = 3.6580823e-05\n",
      "Training Observation #850: Loss = 0.16469085\n",
      "Training Observation #860: Loss = 5.5929877e-06\n",
      "Training Observation #870: Loss = 0.0006999097\n",
      "Training Observation #880: Loss = 0.007008484\n",
      "Training Observation #890: Loss = 4.862073\n",
      "Training Observation #900: Loss = 0.05905228\n",
      "Training Observation #910: Loss = 0.18300033\n",
      "Training Observation #920: Loss = 0.00034742453\n",
      "Training Observation #930: Loss = 1.3601677\n",
      "Training Observation #940: Loss = 0.0018543729\n",
      "Training Observation #950: Loss = 0.008830273\n",
      "Training Observation #960: Loss = 0.00019427222\n",
      "Training Observation #970: Loss = 0.059219025\n",
      "Training Observation #980: Loss = 0.00042373376\n",
      "Training Observation #990: Loss = 0.00035449443\n",
      "Training Observation #1000: Loss = 6.085893e-05\n",
      "Training Observation #1010: Loss = 0.0457512\n",
      "Training Observation #1020: Loss = 0.22764638\n",
      "Training Observation #1030: Loss = 0.7612619\n",
      "Training Observation #1040: Loss = 0.0008638467\n",
      "Training Observation #1050: Loss = 0.014474233\n",
      "Training Observation #1060: Loss = 6.9867754\n",
      "Training Observation #1070: Loss = 0.013606739\n",
      "Training Observation #1080: Loss = 0.0013704819\n",
      "Training Observation #1090: Loss = 0.003764704\n",
      "Training Observation #1100: Loss = 0.50747186\n",
      "Training Observation #1110: Loss = 0.001894372\n",
      "Training Observation #1120: Loss = 0.07457151\n",
      "Training Observation #1130: Loss = 0.005225635\n",
      "Training Observation #1140: Loss = 0.00045429007\n",
      "Training Observation #1150: Loss = 0.0046032825\n",
      "Training Observation #1160: Loss = 0.47321716\n",
      "Training Observation #1170: Loss = 0.44457227\n",
      "Training Observation #1180: Loss = 0.16525766\n",
      "Training Observation #1190: Loss = 0.0008593151\n",
      "Training Observation #1200: Loss = 0.032495152\n",
      "Training Observation #1210: Loss = 0.0033289576\n",
      "Training Observation #1220: Loss = 0.041585676\n",
      "Training Observation #1230: Loss = 1.13426895e-05\n",
      "Training Observation #1240: Loss = 0.0047526397\n",
      "Training Observation #1250: Loss = 0.00038825895\n",
      "Training Observation #1260: Loss = 0.02333822\n",
      "Training Observation #1270: Loss = 0.00060136116\n",
      "Training Observation #1280: Loss = 0.002544292\n",
      "Training Observation #1290: Loss = 0.056323834\n",
      "Training Observation #1300: Loss = 9.435957e-05\n",
      "Training Observation #1310: Loss = 7.950966e-05\n",
      "Training Observation #1320: Loss = 0.0047670566\n",
      "Training Observation #1330: Loss = 0.33667314\n",
      "Training Observation #1340: Loss = 0.09785217\n",
      "Training Observation #1350: Loss = 1.1604866\n",
      "Training Observation #1360: Loss = 1.7133335\n",
      "Training Observation #1370: Loss = 0.016768886\n",
      "Training Observation #1380: Loss = 9.0857935\n",
      "Training Observation #1390: Loss = 0.009449083\n",
      "Training Observation #1400: Loss = 5.3715947e-05\n",
      "Training Observation #1410: Loss = 0.0026814505\n",
      "Training Observation #1420: Loss = 0.56361246\n",
      "Training Observation #1430: Loss = 0.026036575\n",
      "Training Observation #1440: Loss = 0.011289358\n",
      "Training Observation #1450: Loss = 0.015354564\n",
      "Training Observation #1460: Loss = 0.0003624427\n",
      "Training Observation #1470: Loss = 2.9322\n",
      "Training Observation #1480: Loss = 0.024331484\n",
      "Training Observation #1490: Loss = 0.0007673616\n",
      "Training Observation #1500: Loss = 0.0042818757\n",
      "Training Observation #1510: Loss = 0.00069174875\n",
      "Training Observation #1520: Loss = 0.008249558\n",
      "Training Observation #1530: Loss = 0.03718541\n",
      "Training Observation #1540: Loss = 6.9906804e-05\n",
      "Training Observation #1550: Loss = 0.039632417\n",
      "Training Observation #1560: Loss = 1.4094813\n",
      "Training Observation #1570: Loss = 0.11745268\n",
      "Training Observation #1580: Loss = 3.7281814\n",
      "Training Observation #1590: Loss = 0.0003208359\n",
      "Training Observation #1600: Loss = 0.014707789\n",
      "Training Observation #1610: Loss = 0.06549091\n",
      "Training Observation #1620: Loss = 0.0721562\n",
      "Training Observation #1630: Loss = 0.049929902\n",
      "Training Observation #1640: Loss = 0.011695125\n",
      "Training Observation #1650: Loss = 0.012766014\n",
      "Training Observation #1660: Loss = 0.00013034644\n",
      "Training Observation #1670: Loss = 0.0010177513\n",
      "Training Observation #1680: Loss = 0.0002659313\n",
      "Training Observation #1690: Loss = 0.0027868617\n",
      "Training Observation #1700: Loss = 0.0005134922\n",
      "Training Observation #1710: Loss = 0.0003061618\n",
      "Training Observation #1720: Loss = 0.012968763\n",
      "Training Observation #1730: Loss = 0.0010124943\n",
      "Training Observation #1740: Loss = 0.04116913\n",
      "Training Observation #1750: Loss = 0.009616741\n",
      "Training Observation #1760: Loss = 0.0019057989\n",
      "Training Observation #1770: Loss = 0.0029415744\n"
     ]
    },
    {
     "name": "stdout",
     "output_type": "stream",
     "text": [
      "Training Observation #1780: Loss = 4.321352e-05\n",
      "Training Observation #1790: Loss = 0.00055492064\n",
      "Training Observation #1800: Loss = 0.004362749\n",
      "Training Observation #1810: Loss = 0.0038150784\n",
      "Training Observation #1820: Loss = 0.00044936757\n",
      "Training Observation #1830: Loss = 6.3979125\n",
      "Training Observation #1840: Loss = 2.3190687e-05\n",
      "Training Observation #1850: Loss = 0.00048226624\n",
      "Training Observation #1860: Loss = 0.00063637365\n",
      "Training Observation #1870: Loss = 0.00063321966\n",
      "Training Observation #1880: Loss = 0.00042678288\n",
      "Training Observation #1890: Loss = 0.0068358677\n",
      "Training Observation #1900: Loss = 0.003993897\n",
      "Training Observation #1910: Loss = 0.0014085833\n",
      "Training Observation #1920: Loss = 0.06156337\n",
      "Training Observation #1930: Loss = 0.016269425\n",
      "Training Observation #1940: Loss = 0.00035674885\n",
      "Training Observation #1950: Loss = 0.727706\n",
      "Training Observation #1960: Loss = 0.0070212903\n",
      "Training Observation #1970: Loss = 0.00013279752\n",
      "Training Observation #1980: Loss = 0.011412739\n",
      "Training Observation #1990: Loss = 0.00018753819\n",
      "Training Observation #2000: Loss = 0.04583712\n",
      "Training Observation #2010: Loss = 0.00036724284\n",
      "Training Observation #2020: Loss = 0.025995841\n",
      "Training Observation #2030: Loss = 0.00065038045\n",
      "Training Observation #2040: Loss = 0.0027188046\n",
      "Training Observation #2050: Loss = 0.0002252881\n",
      "Training Observation #2060: Loss = 0.00013488336\n",
      "Training Observation #2070: Loss = 5.286032\n",
      "Training Observation #2080: Loss = 0.0003554674\n",
      "Training Observation #2090: Loss = 0.0013072231\n",
      "Training Observation #2100: Loss = 0.00024044703\n",
      "Training Observation #2110: Loss = 0.0044769337\n",
      "Training Observation #2120: Loss = 0.0015388033\n",
      "Training Observation #2130: Loss = 3.9898863e-05\n",
      "Training Observation #2140: Loss = 0.00029355747\n",
      "Training Observation #2150: Loss = 0.009253593\n",
      "Training Observation #2160: Loss = 0.00075522944\n",
      "Training Observation #2170: Loss = 0.009510386\n",
      "Training Observation #2180: Loss = 0.00029439564\n",
      "Training Observation #2190: Loss = 3.0618453e-06\n",
      "Training Observation #2200: Loss = 0.001744866\n",
      "Training Observation #2210: Loss = 0.004742346\n",
      "Training Observation #2220: Loss = 0.00016027172\n",
      "Training Observation #2230: Loss = 0.13646884\n",
      "Training Observation #2240: Loss = 0.000115410614\n",
      "Training Observation #2250: Loss = 2.4037516\n",
      "Training Observation #2260: Loss = 0.00010579499\n",
      "Training Observation #2270: Loss = 0.00081694644\n",
      "Training Observation #2280: Loss = 3.142562e-05\n",
      "Training Observation #2290: Loss = 4.9809093\n",
      "Training Observation #2300: Loss = 0.1778813\n",
      "Training Observation #2310: Loss = 0.0025197172\n",
      "Training Observation #2320: Loss = 0.00091660797\n",
      "Training Observation #2330: Loss = 0.00012121568\n",
      "Training Observation #2340: Loss = 0.000952117\n",
      "Training Observation #2350: Loss = 0.18170156\n",
      "Training Observation #2360: Loss = 0.0011625951\n",
      "Training Observation #2370: Loss = 4.5282345\n",
      "Training Observation #2380: Loss = 1.3199012\n",
      "Training Observation #2390: Loss = 0.008424351\n",
      "Training Observation #2400: Loss = 0.030188067\n",
      "Training Observation #2410: Loss = 2.21305\n",
      "Training Observation #2420: Loss = 0.0005192447\n",
      "Training Observation #2430: Loss = 0.0020463136\n",
      "Training Observation #2440: Loss = 0.0010157998\n",
      "Training Observation #2450: Loss = 2.272443e-05\n",
      "Training Observation #2460: Loss = 0.00028755856\n",
      "Training Observation #2470: Loss = 0.0006226684\n",
      "Training Observation #2480: Loss = 0.005482708\n",
      "Training Observation #2490: Loss = 0.025166688\n",
      "Training Observation #2500: Loss = 0.12579569\n",
      "Training Observation #2510: Loss = 0.00037853306\n",
      "Training Observation #2520: Loss = 0.0070860093\n",
      "Training Observation #2530: Loss = 2.3744385\n",
      "Training Observation #2540: Loss = 8.288746\n",
      "Training Observation #2550: Loss = 0.57615346\n",
      "Training Observation #2560: Loss = 0.02998224\n",
      "Training Observation #2570: Loss = 0.0011782588\n",
      "Training Observation #2580: Loss = 1.2526145\n",
      "Training Observation #2590: Loss = 0.00024071062\n",
      "Training Observation #2600: Loss = 0.8439134\n",
      "Training Observation #2610: Loss = 0.001333394\n",
      "Training Observation #2620: Loss = 0.00013328929\n",
      "Training Observation #2630: Loss = 0.00021484258\n",
      "Training Observation #2640: Loss = 5.9475856e-06\n",
      "Training Observation #2650: Loss = 2.5528612e-05\n",
      "Training Observation #2660: Loss = 0.0075912913\n",
      "Training Observation #2670: Loss = 0.004022673\n",
      "Training Observation #2680: Loss = 0.00058003626\n",
      "Training Observation #2690: Loss = 0.064476036\n",
      "Training Observation #2700: Loss = 0.0008055317\n",
      "Training Observation #2710: Loss = 0.00014366455\n",
      "Training Observation #2720: Loss = 0.012513696\n",
      "Training Observation #2730: Loss = 7.9933014\n",
      "Training Observation #2740: Loss = 5.112023\n",
      "Training Observation #2750: Loss = 0.0054409904\n",
      "Training Observation #2760: Loss = 0.014566541\n",
      "Training Observation #2770: Loss = 0.000110858906\n",
      "Training Observation #2780: Loss = 4.9830833e-05\n",
      "Training Observation #2790: Loss = 0.26244608\n",
      "Training Observation #2800: Loss = 0.0014093386\n",
      "Training Observation #2810: Loss = 0.7115556\n",
      "Training Observation #2820: Loss = 1.4040936\n",
      "Training Observation #2830: Loss = 0.08524789\n",
      "Training Observation #2840: Loss = 0.0013402535\n",
      "Training Observation #2850: Loss = 1.3157578\n",
      "Training Observation #2860: Loss = 0.002552079\n",
      "Training Observation #2870: Loss = 1.7728933\n",
      "Training Observation #2880: Loss = 0.0003369818\n",
      "Training Observation #2890: Loss = 0.0011660302\n",
      "Training Observation #2900: Loss = 0.00031672337\n",
      "Training Observation #2910: Loss = 4.096488\n",
      "Training Observation #2920: Loss = 0.0077604507\n",
      "Training Observation #2930: Loss = 0.00032566919\n",
      "Training Observation #2940: Loss = 0.002502791\n",
      "Training Observation #2950: Loss = 0.0006912174\n",
      "Training Observation #2960: Loss = 0.0013207226\n",
      "Training Observation #2970: Loss = 0.0007429008\n",
      "Training Observation #2980: Loss = 0.052184306\n",
      "Training Observation #2990: Loss = 0.00016064095\n",
      "Training Observation #3000: Loss = 0.008464198\n",
      "Training Observation #3010: Loss = 0.024747344\n",
      "Training Observation #3020: Loss = 0.0014582223\n",
      "Training Observation #3030: Loss = 2.2811577\n",
      "Training Observation #3040: Loss = 0.01583407\n",
      "Training Observation #3050: Loss = 5.768092e-05\n",
      "Training Observation #3060: Loss = 4.335865\n",
      "Training Observation #3070: Loss = 0.0016052234\n",
      "Training Observation #3080: Loss = 0.0012689009\n",
      "Training Observation #3090: Loss = 0.0019320066\n",
      "Training Observation #3100: Loss = 0.00024094302\n",
      "Training Observation #3110: Loss = 0.00034973\n",
      "Training Observation #3120: Loss = 2.7950788e-05\n",
      "Training Observation #3130: Loss = 0.13403092\n",
      "Training Observation #3140: Loss = 0.00073127344\n",
      "Training Observation #3150: Loss = 0.004999486\n",
      "Training Observation #3160: Loss = 0.0014101386\n",
      "Training Observation #3170: Loss = 4.2211697e-05\n",
      "Training Observation #3180: Loss = 0.24421407\n",
      "Training Observation #3190: Loss = 4.408072\n",
      "Training Observation #3200: Loss = 0.50652397\n",
      "Training Observation #3210: Loss = 5.4664946\n",
      "Training Observation #3220: Loss = 0.019743009\n",
      "Training Observation #3230: Loss = 0.000522414\n",
      "Training Observation #3240: Loss = 0.0041167606\n",
      "Training Observation #3250: Loss = 6.146956\n",
      "Training Observation #3260: Loss = 0.0150373\n",
      "Training Observation #3270: Loss = 1.4563444\n",
      "Training Observation #3280: Loss = 0.005311557\n",
      "Training Observation #3290: Loss = 0.0057795737\n",
      "Training Observation #3300: Loss = 0.00078941055\n",
      "Training Observation #3310: Loss = 6.977451\n",
      "Training Observation #3320: Loss = 0.15848847\n",
      "Training Observation #3330: Loss = 0.03601969\n",
      "Training Observation #3340: Loss = 0.00050076994\n",
      "Training Observation #3350: Loss = 1.5521102e-05\n",
      "Training Observation #3360: Loss = 4.290744\n",
      "Training Observation #3370: Loss = 0.26578102\n",
      "Training Observation #3380: Loss = 0.0037532882\n",
      "Training Observation #3390: Loss = 0.0039260215\n",
      "Training Observation #3400: Loss = 3.7390773e-06\n",
      "Training Observation #3410: Loss = 0.60307115\n",
      "Training Observation #3420: Loss = 6.445477\n",
      "Training Observation #3430: Loss = 3.0028827\n",
      "Training Observation #3440: Loss = 0.44768372\n",
      "Training Observation #3450: Loss = 0.03322803\n",
      "Training Observation #3460: Loss = 0.0076772477\n",
      "Training Observation #3470: Loss = 0.06542162\n",
      "Training Observation #3480: Loss = 0.00079392316\n",
      "Training Observation #3490: Loss = 0.40547302\n",
      "Training Observation #3500: Loss = 0.014830328\n",
      "Training Observation #3510: Loss = 0.00872494\n"
     ]
    },
    {
     "name": "stdout",
     "output_type": "stream",
     "text": [
      "Training Observation #3520: Loss = 4.3877444\n",
      "Training Observation #3530: Loss = 0.036769085\n",
      "Training Observation #3540: Loss = 0.00031273538\n",
      "Training Observation #3550: Loss = 0.0012476476\n",
      "Training Observation #3560: Loss = 0.0010183917\n",
      "Training Observation #3570: Loss = 0.00039315043\n",
      "Training Observation #3580: Loss = 0.004066246\n",
      "Training Observation #3590: Loss = 0.0022042633\n",
      "Training Observation #3600: Loss = 0.0071450872\n",
      "Training Observation #3610: Loss = 2.2977521\n",
      "Training Observation #3620: Loss = 0.0021307634\n",
      "Training Observation #3630: Loss = 0.42222467\n",
      "Training Observation #3640: Loss = 0.00086315646\n",
      "Training Observation #3650: Loss = 3.557452e-05\n",
      "Training Observation #3660: Loss = 12.681997\n",
      "Training Observation #3670: Loss = 4.7520534e-06\n",
      "Training Observation #3680: Loss = 7.9151134e-05\n",
      "Training Observation #3690: Loss = 0.00069629453\n",
      "Training Observation #3700: Loss = 0.0074146455\n",
      "Training Observation #3710: Loss = 0.0042483537\n",
      "Training Observation #3720: Loss = 0.0064478223\n",
      "Training Observation #3730: Loss = 0.018440325\n",
      "Training Observation #3740: Loss = 0.002107324\n",
      "Training Observation #3750: Loss = 0.0006162471\n",
      "Training Observation #3760: Loss = 0.00015640995\n",
      "Training Observation #3770: Loss = 0.00735783\n",
      "Training Observation #3780: Loss = 0.0017742515\n",
      "Training Observation #3790: Loss = 0.051762268\n",
      "Training Observation #3800: Loss = 0.13470912\n",
      "Training Observation #3810: Loss = 0.0005226195\n",
      "Training Observation #3820: Loss = 0.10986787\n",
      "Training Observation #3830: Loss = 0.0009008618\n",
      "Training Observation #3840: Loss = 8.86331\n",
      "Training Observation #3850: Loss = 0.037397582\n",
      "Training Observation #3860: Loss = 0.1022968\n",
      "Training Observation #3870: Loss = 0.0011869667\n",
      "Training Observation #3880: Loss = 0.007572761\n",
      "Training Observation #3890: Loss = 0.33900735\n",
      "Training Observation #3900: Loss = 0.004904015\n",
      "Training Observation #3910: Loss = 0.00042013195\n",
      "Training Observation #3920: Loss = 4.1415725\n",
      "Training Observation #3930: Loss = 0.0023960536\n",
      "Training Observation #3940: Loss = 0.004118681\n",
      "Training Observation #3950: Loss = 0.018340098\n",
      "Training Observation #3960: Loss = 0.0038478754\n",
      "Training Observation #3970: Loss = 0.006975264\n",
      "Training Observation #3980: Loss = 0.00015809017\n",
      "Training Observation #3990: Loss = 0.043114174\n",
      "Training Observation #4000: Loss = 0.00032019595\n",
      "Training Observation #4010: Loss = 0.102882706\n",
      "Training Observation #4020: Loss = 0.008761152\n",
      "Training Observation #4030: Loss = 0.6546615\n",
      "Training Observation #4040: Loss = 0.023078732\n",
      "Training Observation #4050: Loss = 0.015020606\n",
      "Training Observation #4060: Loss = 0.031387024\n",
      "Training Observation #4070: Loss = 0.014693093\n",
      "Training Observation #4080: Loss = 0.00016493871\n",
      "Training Observation #4090: Loss = 0.005930531\n",
      "Training Observation #4100: Loss = 8.413005e-07\n",
      "Training Observation #4110: Loss = 0.0032360917\n",
      "Training Observation #4120: Loss = 0.0011927038\n",
      "Training Observation #4130: Loss = 0.009812631\n",
      "Training Observation #4140: Loss = 4.843583\n",
      "Training Observation #4150: Loss = 0.00035096705\n",
      "Training Observation #4160: Loss = 0.0029064321\n",
      "Training Observation #4170: Loss = 0.0027321477\n",
      "Training Observation #4180: Loss = 6.6885433\n",
      "Training Observation #4190: Loss = 0.02465345\n",
      "Training Observation #4200: Loss = 0.0022523066\n",
      "Training Observation #4210: Loss = 0.2845863\n",
      "Training Observation #4220: Loss = 2.7464268\n",
      "Training Observation #4230: Loss = 0.009193332\n",
      "Training Observation #4240: Loss = 1.04951\n",
      "Training Observation #4250: Loss = 0.0012920639\n",
      "Training Observation #4260: Loss = 0.14071903\n",
      "Training Observation #4270: Loss = 4.737028e-05\n",
      "Training Observation #4280: Loss = 1.0029825\n",
      "Training Observation #4290: Loss = 0.0005813182\n",
      "Training Observation #4300: Loss = 0.0018461709\n",
      "Training Observation #4310: Loss = 0.002532392\n",
      "Training Observation #4320: Loss = 0.24856848\n",
      "Training Observation #4330: Loss = 0.003275357\n",
      "Training Observation #4340: Loss = 2.3038075\n",
      "Training Observation #4350: Loss = 0.03152847\n",
      "Training Observation #4360: Loss = 0.007853916\n",
      "Training Observation #4370: Loss = 0.06624662\n",
      "Training Observation #4380: Loss = 0.001975053\n",
      "Training Observation #4390: Loss = 0.002547808\n",
      "Training Observation #4400: Loss = 7.627039\n",
      "Training Observation #4410: Loss = 0.0027337966\n",
      "Training Observation #4420: Loss = 0.8560108\n",
      "Training Observation #4430: Loss = 4.1910753\n",
      "Training Observation #4440: Loss = 0.24332859\n",
      "Training Observation #4450: Loss = 0.00096901815\n"
     ]
    }
   ],
   "source": [
    "# Start Logistic Regression\n",
    "print('Starting Training Over {} Sentences.'.format(len(texts_train)))\n",
    "loss_vec = []\n",
    "train_acc_all = []\n",
    "train_acc_avg = []\n",
    "for ix, t in enumerate(vocab_processor.fit_transform(texts_train)):\n",
    "    y_data = [[target_train[ix]]]\n",
    "    \n",
    "    \n",
    "    sess.run(train_step, feed_dict={x_data: t, y_target: y_data})\n",
    "    temp_loss = sess.run(loss, feed_dict={x_data: t, y_target: y_data})\n",
    "    loss_vec.append(temp_loss)\n",
    "    \n",
    "    if (ix+1)%10==0:\n",
    "        print('Training Observation #' + str(ix+1) + ': Loss = ' + str(temp_loss))\n",
    "        \n",
    "    # Keep trailing average of past 50 observations accuracy\n",
    "    # Get prediction of single observation\n",
    "    [[temp_pred]] = sess.run(prediction, feed_dict={x_data:t, y_target:y_data})\n",
    "    # Get True/False if prediction is accurate\n",
    "    train_acc_temp = target_train[ix]==np.round(temp_pred)\n",
    "    train_acc_all.append(train_acc_temp)\n",
    "    if len(train_acc_all) >= 50:\n",
    "        train_acc_avg.append(np.mean(train_acc_all[-50:]))"
   ]
  },
  {
   "cell_type": "markdown",
   "metadata": {},
   "source": [
    "Now that we have a logistic model, we can evaluate the accuracy on the test dataset."
   ]
  },
  {
   "cell_type": "code",
   "execution_count": 17,
   "metadata": {
    "scrolled": true
   },
   "outputs": [
    {
     "name": "stdout",
     "output_type": "stream",
     "text": [
      "Getting Test Set Accuracy For 1115 Sentences.\n",
      "Test Observation #50\n",
      "Test Observation #100\n",
      "Test Observation #150\n",
      "Test Observation #200\n",
      "Test Observation #250\n",
      "Test Observation #300\n",
      "Test Observation #350\n",
      "Test Observation #400\n",
      "Test Observation #450\n",
      "Test Observation #500\n",
      "Test Observation #550\n",
      "Test Observation #600\n",
      "Test Observation #650\n",
      "Test Observation #700\n",
      "Test Observation #750\n",
      "Test Observation #800\n",
      "Test Observation #850\n",
      "Test Observation #900\n",
      "Test Observation #950\n",
      "Test Observation #1000\n",
      "Test Observation #1050\n",
      "Test Observation #1100\n",
      "\n",
      "Overall Test Accuracy: 0.8385650224215246\n"
     ]
    }
   ],
   "source": [
    "# Get test set accuracy\n",
    "print('Getting Test Set Accuracy For {} Sentences.'.format(len(texts_test)))\n",
    "test_acc_all = []\n",
    "for ix, t in enumerate(vocab_processor.fit_transform(texts_test)):\n",
    "    y_data = [[target_test[ix]]]\n",
    "    \n",
    "    if (ix+1)%50==0:\n",
    "        print('Test Observation #' + str(ix+1))    \n",
    "    \n",
    "    # Keep trailing average of past 50 observations accuracy\n",
    "    # Get prediction of single observation\n",
    "    [[temp_pred]] = sess.run(prediction, feed_dict={x_data:t, y_target:y_data})\n",
    "    # Get True/False if prediction is accurate\n",
    "    test_acc_temp = target_test[ix]==np.round(temp_pred)\n",
    "    test_acc_all.append(test_acc_temp)\n",
    "\n",
    "print('\\nOverall Test Accuracy: {}'.format(np.mean(test_acc_all)))"
   ]
  },
  {
   "cell_type": "markdown",
   "metadata": {},
   "source": [
    "Let's look at the training accuracy over all the iterations."
   ]
  },
  {
   "cell_type": "code",
   "execution_count": 18,
   "metadata": {},
   "outputs": [
    {
     "data": {
      "image/png": "[encoded data removed]",
      "text/plain": [
       "<matplotlib.figure.Figure at 0x12a627a90>"
      ]
     },
     "metadata": {},
     "output_type": "display_data"
    }
   ],
   "source": [
    "%matplotlib inline\n",
    "# Plot training accuracy over time\n",
    "plt.plot(range(len(train_acc_avg)), train_acc_avg, 'k-', label='Train Accuracy')\n",
    "plt.title('Avg Training Acc Over Past 50 Iterations')\n",
    "plt.xlabel('Iterations')\n",
    "plt.ylabel('Training Accuracy')\n",
    "plt.show()"
   ]
  },
  {
   "cell_type": "markdown",
   "metadata": {},
   "source": [
    "It is worthwhile to mention the motivation of limiting the sentence (or text) size. In this example we limited the text size to 25 words. This is a common practice with bag of words because it limits the effect of text length on the prediction. You can imagine that if we find a word, “meeting” for example, that is predictive of a text being ham (not spam), then a spam message might get through by putting in many occurrences of that word at the end. In fact, this is a common problem with imbalanced target data. Imbalanced data might occur in this situation, since spam may be hard to find and ham may be easy to find. Because of this fact, our vocabulary that we create might be heavily skewed toward words represented in the ham part of our data (more ham means more words are represented in ham than spam). If we allow unlimited length of texts, then spammers might take advantage of this and create very long texts, which have a higher probability of triggering non-spam word factors in our logistic model."
   ]
  },
  {
   "cell_type": "code",
   "execution_count": null,
   "metadata": {
    "collapsed": true
   },
   "outputs": [],
   "source": []
  }
 ],
 "metadata": {
  "kernelspec": {
   "display_name": "Python 3",
   "language": "python",
   "name": "python3"
  },
  "language_info": {
   "codemirror_mode": {
    "name": "ipython",
    "version": 3
   },
   "file_extension": ".py",
   "mimetype": "text/x-python",
   "name": "python",
   "nbconvert_exporter": "python",
   "pygments_lexer": "ipython3",
   "version": "3.6.1"
  }
 },
 "nbformat": 4,
 "nbformat_minor": 2
}
